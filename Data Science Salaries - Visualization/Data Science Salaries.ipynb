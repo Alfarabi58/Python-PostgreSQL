{
 "cells": [
  {
   "cell_type": "markdown",
   "metadata": {},
   "source": [
    "**Nama**         : Alfarabi\n",
    "\n",
    "**Dataset**      : [Data Science Job Salaries 2024](https://www.kaggle.com/datasets/abhinavshaw09/data-science-job-salaries-2024?resource=download)\n",
    "\n",
    "**Link Tableau** : https://public.tableau.com/app/profile/alfa.rabi/viz/AlfarabiMilestone1/DeskriptifdanInferensial?publish=yes\n",
    "\n",
    "**Objektif**     : Melakukan analisa tentang job dan salary data science  pada tahun 2024"
   ]
  },
  {
   "cell_type": "markdown",
   "metadata": {},
   "source": [
    "## Topik Permasalahan"
   ]
  },
  {
   "cell_type": "markdown",
   "metadata": {},
   "source": [
    "Analisis Tentang Ketimpangan Gaji dalam Pekerjaan Data Science pada Tahun 2024"
   ]
  },
  {
   "cell_type": "markdown",
   "metadata": {},
   "source": [
    "## Problem Statement"
   ]
  },
  {
   "cell_type": "markdown",
   "metadata": {},
   "source": [
    "Dalam industri data science tahun 2024, terdapat ketidaksetaraan gaji antara berbagai posisi pekerjaan, yang menjadi permasalahan yang perlu ditangani secara serius. Fenomena ini mengundang pertanyaan tentang penyebab, dampak, dan solusi yang efektif. Faktor-faktor seperti tingkat pengalaman, jenis pekerjaan, dan lokasi geografis memainkan peran penting dalam menentukan kompensasi yang diterima oleh profesional data science. Perlu dipahami mengapa ketimpangan gaji terjadi di antara posisi-posisi tersebut, bagaimana hal ini mempengaruhi motivasi dan retensi karyawan, serta langkah-langkah apa yang dapat diambil untuk mencapai kesetaraan gaji yang lebih baik di seluruh spektrum pekerjaan data science. Dengan mengidentifikasi dan memahami akar masalah ini, akan lebih mudah untuk merancang strategi yang dapat menghasilkan perubahan positif bagi profesional data science dan industri secara keseluruhan."
   ]
  },
  {
   "cell_type": "markdown",
   "metadata": {},
   "source": [
    "## SMART"
   ]
  },
  {
   "cell_type": "markdown",
   "metadata": {},
   "source": [
    "- Specific : Menetapkan target untuk mengurangi ketimpangan gaji antara posisi-posisi pekerjaan data science dengan memperhatikan faktor-faktor seperti pengalaman, keterampilan, dan tanggung jawab pekerjaan.\n",
    "\n",
    "- Measurable : Melakukan evaluasi rutin terhadap data gaji untuk mengidentifikasi tren dan perubahan dalam ketimpangan gaji antara posisi-posisi pekerjaan data science, dan meminimalisir ketimpangan gaji hingga 10%.\n",
    "\n",
    "- Achievable : Merancang strategi insentif dan kebijakan kompensasi yang memungkinkan untuk mengurangi ketimpangan gaji tanpa mengganggu stabilitas keuangan perusahaan.\n",
    "\n",
    "- Relevant : Meningkatkan kepuasan dan motivasi karyawan data science, serta memperkuat citra perusahaan sebagai tempat kerja yang adil dan berkelanjutan.\n",
    "\n",
    "- Time-bound : Mencapai tujuan ini dalam waktu satu tahun dengan memantau kemajuan secara berkala dan menyesuaikan strategi jika diperlukan untuk mencapai kesetaraan gaji yang diinginkan."
   ]
  },
  {
   "cell_type": "markdown",
   "metadata": {},
   "source": [
    "## Identification of Problems (5W + 1H)"
   ]
  },
  {
   "cell_type": "markdown",
   "metadata": {},
   "source": [
    "- Dimana negara yang mempunyai rata-rata persentase salary terbesar dalam industri data science pada tahun 2024?\n",
    "- Apakah company location mempengaruhi perbedaan salary dalam industri data science pada tahun 2024?\n",
    "- Bagaimana pengaruh experience level terhadap ketimpangan salary di antara posisi-posisi pekerjaan dalam industri data science pada tahun 2024?\n",
    "- Apakah terdapat ketidaksetaraan salary pada employment type dalam industri data science pada tahun 2024?\n",
    "- Apa top 5 job title yang memiliki rata-rata salary tertinggi dalam industri data science pada tahun 2024?\n",
    "- Tren work setting manakah yang paling diminati oleh employee dalam industri data science pada tahun 2024?"
   ]
  },
  {
   "cell_type": "markdown",
   "metadata": {},
   "source": [
    "## Library"
   ]
  },
  {
   "cell_type": "code",
   "execution_count": 1,
   "metadata": {},
   "outputs": [],
   "source": [
    "# Library yang dipakai\n",
    "import pandas as pd\n",
    "import matplotlib.pyplot as plt\n",
    "import seaborn as sns\n",
    "import numpy as np\n",
    "import scipy.stats as stats\n",
    "from scipy.stats import f_oneway"
   ]
  },
  {
   "cell_type": "markdown",
   "metadata": {},
   "source": [
    "## A. Data Loading"
   ]
  },
  {
   "cell_type": "code",
   "execution_count": 2,
   "metadata": {},
   "outputs": [
    {
     "data": {
      "text/html": [
       "<div>\n",
       "<style scoped>\n",
       "    .dataframe tbody tr th:only-of-type {\n",
       "        vertical-align: middle;\n",
       "    }\n",
       "\n",
       "    .dataframe tbody tr th {\n",
       "        vertical-align: top;\n",
       "    }\n",
       "\n",
       "    .dataframe thead th {\n",
       "        text-align: right;\n",
       "    }\n",
       "</style>\n",
       "<table border=\"1\" class=\"dataframe\">\n",
       "  <thead>\n",
       "    <tr style=\"text-align: right;\">\n",
       "      <th></th>\n",
       "      <th>work_year</th>\n",
       "      <th>experience_level</th>\n",
       "      <th>employment_type</th>\n",
       "      <th>job_title</th>\n",
       "      <th>salary</th>\n",
       "      <th>salary_currency</th>\n",
       "      <th>salary_in_usd</th>\n",
       "      <th>employee_residence</th>\n",
       "      <th>remote_ratio</th>\n",
       "      <th>company_location</th>\n",
       "      <th>company_size</th>\n",
       "    </tr>\n",
       "  </thead>\n",
       "  <tbody>\n",
       "    <tr>\n",
       "      <th>0</th>\n",
       "      <td>2024</td>\n",
       "      <td>SE</td>\n",
       "      <td>FT</td>\n",
       "      <td>AI Engineer</td>\n",
       "      <td>90000</td>\n",
       "      <td>USD</td>\n",
       "      <td>90000</td>\n",
       "      <td>AE</td>\n",
       "      <td>0</td>\n",
       "      <td>AE</td>\n",
       "      <td>L</td>\n",
       "    </tr>\n",
       "    <tr>\n",
       "      <th>1</th>\n",
       "      <td>2024</td>\n",
       "      <td>SE</td>\n",
       "      <td>FT</td>\n",
       "      <td>Machine Learning Engineer</td>\n",
       "      <td>180500</td>\n",
       "      <td>USD</td>\n",
       "      <td>180500</td>\n",
       "      <td>US</td>\n",
       "      <td>0</td>\n",
       "      <td>US</td>\n",
       "      <td>M</td>\n",
       "    </tr>\n",
       "    <tr>\n",
       "      <th>2</th>\n",
       "      <td>2024</td>\n",
       "      <td>SE</td>\n",
       "      <td>FT</td>\n",
       "      <td>Machine Learning Engineer</td>\n",
       "      <td>96200</td>\n",
       "      <td>USD</td>\n",
       "      <td>96200</td>\n",
       "      <td>US</td>\n",
       "      <td>0</td>\n",
       "      <td>US</td>\n",
       "      <td>M</td>\n",
       "    </tr>\n",
       "    <tr>\n",
       "      <th>3</th>\n",
       "      <td>2024</td>\n",
       "      <td>SE</td>\n",
       "      <td>FT</td>\n",
       "      <td>Machine Learning Engineer</td>\n",
       "      <td>235000</td>\n",
       "      <td>USD</td>\n",
       "      <td>235000</td>\n",
       "      <td>AU</td>\n",
       "      <td>0</td>\n",
       "      <td>AU</td>\n",
       "      <td>M</td>\n",
       "    </tr>\n",
       "    <tr>\n",
       "      <th>4</th>\n",
       "      <td>2024</td>\n",
       "      <td>SE</td>\n",
       "      <td>FT</td>\n",
       "      <td>Machine Learning Engineer</td>\n",
       "      <td>175000</td>\n",
       "      <td>USD</td>\n",
       "      <td>175000</td>\n",
       "      <td>AU</td>\n",
       "      <td>0</td>\n",
       "      <td>AU</td>\n",
       "      <td>M</td>\n",
       "    </tr>\n",
       "    <tr>\n",
       "      <th>...</th>\n",
       "      <td>...</td>\n",
       "      <td>...</td>\n",
       "      <td>...</td>\n",
       "      <td>...</td>\n",
       "      <td>...</td>\n",
       "      <td>...</td>\n",
       "      <td>...</td>\n",
       "      <td>...</td>\n",
       "      <td>...</td>\n",
       "      <td>...</td>\n",
       "      <td>...</td>\n",
       "    </tr>\n",
       "    <tr>\n",
       "      <th>13967</th>\n",
       "      <td>2020</td>\n",
       "      <td>SE</td>\n",
       "      <td>FT</td>\n",
       "      <td>Data Scientist</td>\n",
       "      <td>412000</td>\n",
       "      <td>USD</td>\n",
       "      <td>412000</td>\n",
       "      <td>US</td>\n",
       "      <td>100</td>\n",
       "      <td>US</td>\n",
       "      <td>L</td>\n",
       "    </tr>\n",
       "    <tr>\n",
       "      <th>13968</th>\n",
       "      <td>2021</td>\n",
       "      <td>MI</td>\n",
       "      <td>FT</td>\n",
       "      <td>Principal Data Scientist</td>\n",
       "      <td>151000</td>\n",
       "      <td>USD</td>\n",
       "      <td>151000</td>\n",
       "      <td>US</td>\n",
       "      <td>100</td>\n",
       "      <td>US</td>\n",
       "      <td>L</td>\n",
       "    </tr>\n",
       "    <tr>\n",
       "      <th>13969</th>\n",
       "      <td>2020</td>\n",
       "      <td>EN</td>\n",
       "      <td>FT</td>\n",
       "      <td>Data Scientist</td>\n",
       "      <td>105000</td>\n",
       "      <td>USD</td>\n",
       "      <td>105000</td>\n",
       "      <td>US</td>\n",
       "      <td>100</td>\n",
       "      <td>US</td>\n",
       "      <td>S</td>\n",
       "    </tr>\n",
       "    <tr>\n",
       "      <th>13970</th>\n",
       "      <td>2020</td>\n",
       "      <td>EN</td>\n",
       "      <td>CT</td>\n",
       "      <td>Business Data Analyst</td>\n",
       "      <td>100000</td>\n",
       "      <td>USD</td>\n",
       "      <td>100000</td>\n",
       "      <td>US</td>\n",
       "      <td>100</td>\n",
       "      <td>US</td>\n",
       "      <td>L</td>\n",
       "    </tr>\n",
       "    <tr>\n",
       "      <th>13971</th>\n",
       "      <td>2021</td>\n",
       "      <td>SE</td>\n",
       "      <td>FT</td>\n",
       "      <td>Data Science Manager</td>\n",
       "      <td>7000000</td>\n",
       "      <td>INR</td>\n",
       "      <td>94665</td>\n",
       "      <td>IN</td>\n",
       "      <td>50</td>\n",
       "      <td>IN</td>\n",
       "      <td>L</td>\n",
       "    </tr>\n",
       "  </tbody>\n",
       "</table>\n",
       "<p>13972 rows × 11 columns</p>\n",
       "</div>"
      ],
      "text/plain": [
       "       work_year experience_level employment_type                  job_title  \\\n",
       "0           2024               SE              FT                AI Engineer   \n",
       "1           2024               SE              FT  Machine Learning Engineer   \n",
       "2           2024               SE              FT  Machine Learning Engineer   \n",
       "3           2024               SE              FT  Machine Learning Engineer   \n",
       "4           2024               SE              FT  Machine Learning Engineer   \n",
       "...          ...              ...             ...                        ...   \n",
       "13967       2020               SE              FT             Data Scientist   \n",
       "13968       2021               MI              FT   Principal Data Scientist   \n",
       "13969       2020               EN              FT             Data Scientist   \n",
       "13970       2020               EN              CT      Business Data Analyst   \n",
       "13971       2021               SE              FT       Data Science Manager   \n",
       "\n",
       "        salary salary_currency  salary_in_usd employee_residence  \\\n",
       "0        90000             USD          90000                 AE   \n",
       "1       180500             USD         180500                 US   \n",
       "2        96200             USD          96200                 US   \n",
       "3       235000             USD         235000                 AU   \n",
       "4       175000             USD         175000                 AU   \n",
       "...        ...             ...            ...                ...   \n",
       "13967   412000             USD         412000                 US   \n",
       "13968   151000             USD         151000                 US   \n",
       "13969   105000             USD         105000                 US   \n",
       "13970   100000             USD         100000                 US   \n",
       "13971  7000000             INR          94665                 IN   \n",
       "\n",
       "       remote_ratio company_location company_size  \n",
       "0                 0               AE            L  \n",
       "1                 0               US            M  \n",
       "2                 0               US            M  \n",
       "3                 0               AU            M  \n",
       "4                 0               AU            M  \n",
       "...             ...              ...          ...  \n",
       "13967           100               US            L  \n",
       "13968           100               US            L  \n",
       "13969           100               US            S  \n",
       "13970           100               US            L  \n",
       "13971            50               IN            L  \n",
       "\n",
       "[13972 rows x 11 columns]"
      ]
     },
     "execution_count": 2,
     "metadata": {},
     "output_type": "execute_result"
    }
   ],
   "source": [
    "# Menampilkan tabel dari file CSV\n",
    "df = pd.read_csv('salaries.csv')\n",
    "df"
   ]
  },
  {
   "cell_type": "code",
   "execution_count": 3,
   "metadata": {},
   "outputs": [
    {
     "data": {
      "text/plain": [
       "Index(['work_year', 'experience_level', 'employment_type', 'job_title',\n",
       "       'salary', 'salary_currency', 'salary_in_usd', 'employee_residence',\n",
       "       'remote_ratio', 'company_location', 'company_size'],\n",
       "      dtype='object')"
      ]
     },
     "execution_count": 3,
     "metadata": {},
     "output_type": "execute_result"
    }
   ],
   "source": [
    "# Menampilkan nama kolom dari tabel\n",
    "df.columns"
   ]
  },
  {
   "cell_type": "code",
   "execution_count": 4,
   "metadata": {},
   "outputs": [
    {
     "data": {
      "text/plain": [
       "array(['SE', 'MI', 'EN', 'EX'], dtype=object)"
      ]
     },
     "execution_count": 4,
     "metadata": {},
     "output_type": "execute_result"
    }
   ],
   "source": [
    "# Menampilkan unique value dari experience level\n",
    "df.experience_level.unique()"
   ]
  },
  {
   "cell_type": "code",
   "execution_count": 5,
   "metadata": {},
   "outputs": [
    {
     "data": {
      "text/plain": [
       "array(['FT', 'CT', 'PT', 'FL'], dtype=object)"
      ]
     },
     "execution_count": 5,
     "metadata": {},
     "output_type": "execute_result"
    }
   ],
   "source": [
    "# Menampilkan unique value dari employment type\n",
    "df.employment_type.unique()"
   ]
  },
  {
   "cell_type": "code",
   "execution_count": 6,
   "metadata": {},
   "outputs": [
    {
     "data": {
      "text/plain": [
       "array([  0, 100,  50], dtype=int64)"
      ]
     },
     "execution_count": 6,
     "metadata": {},
     "output_type": "execute_result"
    }
   ],
   "source": [
    "# Menampilkan unique value dari remote ratio\n",
    "df.remote_ratio.unique()"
   ]
  },
  {
   "cell_type": "code",
   "execution_count": 7,
   "metadata": {},
   "outputs": [
    {
     "data": {
      "text/plain": [
       "array(['AE', 'US', 'AU', 'UA', 'LT', 'CA', 'GB', 'NL', 'EG', 'AT', 'DE',\n",
       "       'ES', 'PH', 'FI', 'TR', 'CH', 'OM', 'NZ', 'FR', 'MX', 'PT', 'BA',\n",
       "       'BR', 'AR', 'LV', 'ZA', 'IT', 'AS', 'IE', 'EE', 'IN', 'MT', 'HU',\n",
       "       'LB', 'RO', 'VN', 'NG', 'PL', 'LU', 'GI', 'CO', 'SI', 'GR', 'MU',\n",
       "       'RU', 'KR', 'CZ', 'QA', 'KE', 'DK', 'GH', 'SE', 'AD', 'EC', 'IL',\n",
       "       'SA', 'NO', 'JP', 'HK', 'CF', 'SG', 'TH', 'HR', 'AM', 'PK', 'IR',\n",
       "       'BS', 'PR', 'BE', 'ID', 'MY', 'HN', 'DZ', 'IQ', 'CN', 'CL', 'MD'],\n",
       "      dtype=object)"
      ]
     },
     "execution_count": 7,
     "metadata": {},
     "output_type": "execute_result"
    }
   ],
   "source": [
    "# Menampilkan unique value dari company location\n",
    "df.company_location.unique()"
   ]
  },
  {
   "cell_type": "markdown",
   "metadata": {},
   "source": [
    "## B. Data Cleaning"
   ]
  },
  {
   "cell_type": "markdown",
   "metadata": {},
   "source": [
    "#### - Menghapus Kolom"
   ]
  },
  {
   "cell_type": "code",
   "execution_count": 8,
   "metadata": {},
   "outputs": [],
   "source": [
    "# Menghapus baris yang sama\n",
    "df = df.drop_duplicates()"
   ]
  },
  {
   "cell_type": "code",
   "execution_count": 9,
   "metadata": {},
   "outputs": [],
   "source": [
    "# Mengahapus kolom\n",
    "df = df.drop(columns=['salary', 'salary_currency'])"
   ]
  },
  {
   "cell_type": "code",
   "execution_count": 10,
   "metadata": {},
   "outputs": [
    {
     "data": {
      "text/html": [
       "<div>\n",
       "<style scoped>\n",
       "    .dataframe tbody tr th:only-of-type {\n",
       "        vertical-align: middle;\n",
       "    }\n",
       "\n",
       "    .dataframe tbody tr th {\n",
       "        vertical-align: top;\n",
       "    }\n",
       "\n",
       "    .dataframe thead th {\n",
       "        text-align: right;\n",
       "    }\n",
       "</style>\n",
       "<table border=\"1\" class=\"dataframe\">\n",
       "  <thead>\n",
       "    <tr style=\"text-align: right;\">\n",
       "      <th></th>\n",
       "      <th>work_year</th>\n",
       "      <th>experience_level</th>\n",
       "      <th>employment_type</th>\n",
       "      <th>job_title</th>\n",
       "      <th>salary_in_usd</th>\n",
       "      <th>employee_residence</th>\n",
       "      <th>remote_ratio</th>\n",
       "      <th>company_location</th>\n",
       "      <th>company_size</th>\n",
       "    </tr>\n",
       "  </thead>\n",
       "  <tbody>\n",
       "    <tr>\n",
       "      <th>0</th>\n",
       "      <td>2024</td>\n",
       "      <td>SE</td>\n",
       "      <td>FT</td>\n",
       "      <td>AI Engineer</td>\n",
       "      <td>90000</td>\n",
       "      <td>AE</td>\n",
       "      <td>0</td>\n",
       "      <td>AE</td>\n",
       "      <td>L</td>\n",
       "    </tr>\n",
       "    <tr>\n",
       "      <th>1</th>\n",
       "      <td>2024</td>\n",
       "      <td>SE</td>\n",
       "      <td>FT</td>\n",
       "      <td>Machine Learning Engineer</td>\n",
       "      <td>180500</td>\n",
       "      <td>US</td>\n",
       "      <td>0</td>\n",
       "      <td>US</td>\n",
       "      <td>M</td>\n",
       "    </tr>\n",
       "    <tr>\n",
       "      <th>2</th>\n",
       "      <td>2024</td>\n",
       "      <td>SE</td>\n",
       "      <td>FT</td>\n",
       "      <td>Machine Learning Engineer</td>\n",
       "      <td>96200</td>\n",
       "      <td>US</td>\n",
       "      <td>0</td>\n",
       "      <td>US</td>\n",
       "      <td>M</td>\n",
       "    </tr>\n",
       "    <tr>\n",
       "      <th>3</th>\n",
       "      <td>2024</td>\n",
       "      <td>SE</td>\n",
       "      <td>FT</td>\n",
       "      <td>Machine Learning Engineer</td>\n",
       "      <td>235000</td>\n",
       "      <td>AU</td>\n",
       "      <td>0</td>\n",
       "      <td>AU</td>\n",
       "      <td>M</td>\n",
       "    </tr>\n",
       "    <tr>\n",
       "      <th>4</th>\n",
       "      <td>2024</td>\n",
       "      <td>SE</td>\n",
       "      <td>FT</td>\n",
       "      <td>Machine Learning Engineer</td>\n",
       "      <td>175000</td>\n",
       "      <td>AU</td>\n",
       "      <td>0</td>\n",
       "      <td>AU</td>\n",
       "      <td>M</td>\n",
       "    </tr>\n",
       "  </tbody>\n",
       "</table>\n",
       "</div>"
      ],
      "text/plain": [
       "   work_year experience_level employment_type                  job_title  \\\n",
       "0       2024               SE              FT                AI Engineer   \n",
       "1       2024               SE              FT  Machine Learning Engineer   \n",
       "2       2024               SE              FT  Machine Learning Engineer   \n",
       "3       2024               SE              FT  Machine Learning Engineer   \n",
       "4       2024               SE              FT  Machine Learning Engineer   \n",
       "\n",
       "   salary_in_usd employee_residence  remote_ratio company_location  \\\n",
       "0          90000                 AE             0               AE   \n",
       "1         180500                 US             0               US   \n",
       "2          96200                 US             0               US   \n",
       "3         235000                 AU             0               AU   \n",
       "4         175000                 AU             0               AU   \n",
       "\n",
       "  company_size  \n",
       "0            L  \n",
       "1            M  \n",
       "2            M  \n",
       "3            M  \n",
       "4            M  "
      ]
     },
     "execution_count": 10,
     "metadata": {},
     "output_type": "execute_result"
    }
   ],
   "source": [
    "# Menampilkan 5 baris teratas\n",
    "df.head()"
   ]
  },
  {
   "cell_type": "code",
   "execution_count": 11,
   "metadata": {},
   "outputs": [
    {
     "data": {
      "text/plain": [
       "Index(['work_year', 'experience_level', 'employment_type', 'job_title',\n",
       "       'salary_in_usd', 'employee_residence', 'remote_ratio',\n",
       "       'company_location', 'company_size'],\n",
       "      dtype='object')"
      ]
     },
     "execution_count": 11,
     "metadata": {},
     "output_type": "execute_result"
    }
   ],
   "source": [
    "# Menampilkan nama kolom\n",
    "df.columns"
   ]
  },
  {
   "cell_type": "markdown",
   "metadata": {},
   "source": [
    "#### - Mengisi Missing Value"
   ]
  },
  {
   "cell_type": "code",
   "execution_count": 12,
   "metadata": {},
   "outputs": [
    {
     "data": {
      "text/plain": [
       "work_year             0\n",
       "experience_level      0\n",
       "employment_type       0\n",
       "job_title             0\n",
       "salary_in_usd         0\n",
       "employee_residence    0\n",
       "remote_ratio          0\n",
       "company_location      0\n",
       "company_size          0\n",
       "dtype: int64"
      ]
     },
     "execution_count": 12,
     "metadata": {},
     "output_type": "execute_result"
    }
   ],
   "source": [
    "# Mengecek jumlah missing value\n",
    "df.isnull().sum()"
   ]
  },
  {
   "cell_type": "markdown",
   "metadata": {},
   "source": [
    "#### - Penyesuaian Tipe Data"
   ]
  },
  {
   "cell_type": "code",
   "execution_count": 13,
   "metadata": {},
   "outputs": [
    {
     "data": {
      "text/plain": [
       "work_year              int64\n",
       "experience_level      object\n",
       "employment_type       object\n",
       "job_title             object\n",
       "salary_in_usd          int64\n",
       "employee_residence    object\n",
       "remote_ratio           int64\n",
       "company_location      object\n",
       "company_size          object\n",
       "dtype: object"
      ]
     },
     "execution_count": 13,
     "metadata": {},
     "output_type": "execute_result"
    }
   ],
   "source": [
    "# Melihat data type\n",
    "df.dtypes"
   ]
  },
  {
   "cell_type": "code",
   "execution_count": 14,
   "metadata": {},
   "outputs": [],
   "source": [
    "# Menyimpan data yang sudah dicleaning\n",
    "df.to_csv('salaries_cleaning.csv', index=False)"
   ]
  },
  {
   "cell_type": "markdown",
   "metadata": {},
   "source": [
    "## C. Analysis and Calculations"
   ]
  },
  {
   "cell_type": "code",
   "execution_count": 15,
   "metadata": {},
   "outputs": [
    {
     "data": {
      "text/html": [
       "<div>\n",
       "<style scoped>\n",
       "    .dataframe tbody tr th:only-of-type {\n",
       "        vertical-align: middle;\n",
       "    }\n",
       "\n",
       "    .dataframe tbody tr th {\n",
       "        vertical-align: top;\n",
       "    }\n",
       "\n",
       "    .dataframe thead th {\n",
       "        text-align: right;\n",
       "    }\n",
       "</style>\n",
       "<table border=\"1\" class=\"dataframe\">\n",
       "  <thead>\n",
       "    <tr style=\"text-align: right;\">\n",
       "      <th></th>\n",
       "      <th>work_year</th>\n",
       "      <th>experience_level</th>\n",
       "      <th>employment_type</th>\n",
       "      <th>job_title</th>\n",
       "      <th>salary_in_usd</th>\n",
       "      <th>employee_residence</th>\n",
       "      <th>remote_ratio</th>\n",
       "      <th>company_location</th>\n",
       "      <th>company_size</th>\n",
       "    </tr>\n",
       "  </thead>\n",
       "  <tbody>\n",
       "    <tr>\n",
       "      <th>0</th>\n",
       "      <td>2024</td>\n",
       "      <td>SE</td>\n",
       "      <td>FT</td>\n",
       "      <td>AI Engineer</td>\n",
       "      <td>90000</td>\n",
       "      <td>AE</td>\n",
       "      <td>0</td>\n",
       "      <td>AE</td>\n",
       "      <td>L</td>\n",
       "    </tr>\n",
       "    <tr>\n",
       "      <th>1</th>\n",
       "      <td>2024</td>\n",
       "      <td>SE</td>\n",
       "      <td>FT</td>\n",
       "      <td>Machine Learning Engineer</td>\n",
       "      <td>180500</td>\n",
       "      <td>US</td>\n",
       "      <td>0</td>\n",
       "      <td>US</td>\n",
       "      <td>M</td>\n",
       "    </tr>\n",
       "    <tr>\n",
       "      <th>2</th>\n",
       "      <td>2024</td>\n",
       "      <td>SE</td>\n",
       "      <td>FT</td>\n",
       "      <td>Machine Learning Engineer</td>\n",
       "      <td>96200</td>\n",
       "      <td>US</td>\n",
       "      <td>0</td>\n",
       "      <td>US</td>\n",
       "      <td>M</td>\n",
       "    </tr>\n",
       "    <tr>\n",
       "      <th>3</th>\n",
       "      <td>2024</td>\n",
       "      <td>SE</td>\n",
       "      <td>FT</td>\n",
       "      <td>Machine Learning Engineer</td>\n",
       "      <td>235000</td>\n",
       "      <td>AU</td>\n",
       "      <td>0</td>\n",
       "      <td>AU</td>\n",
       "      <td>M</td>\n",
       "    </tr>\n",
       "    <tr>\n",
       "      <th>4</th>\n",
       "      <td>2024</td>\n",
       "      <td>SE</td>\n",
       "      <td>FT</td>\n",
       "      <td>Machine Learning Engineer</td>\n",
       "      <td>175000</td>\n",
       "      <td>AU</td>\n",
       "      <td>0</td>\n",
       "      <td>AU</td>\n",
       "      <td>M</td>\n",
       "    </tr>\n",
       "    <tr>\n",
       "      <th>...</th>\n",
       "      <td>...</td>\n",
       "      <td>...</td>\n",
       "      <td>...</td>\n",
       "      <td>...</td>\n",
       "      <td>...</td>\n",
       "      <td>...</td>\n",
       "      <td>...</td>\n",
       "      <td>...</td>\n",
       "      <td>...</td>\n",
       "    </tr>\n",
       "    <tr>\n",
       "      <th>8589</th>\n",
       "      <td>2020</td>\n",
       "      <td>SE</td>\n",
       "      <td>FT</td>\n",
       "      <td>Data Scientist</td>\n",
       "      <td>412000</td>\n",
       "      <td>US</td>\n",
       "      <td>100</td>\n",
       "      <td>US</td>\n",
       "      <td>L</td>\n",
       "    </tr>\n",
       "    <tr>\n",
       "      <th>8590</th>\n",
       "      <td>2021</td>\n",
       "      <td>MI</td>\n",
       "      <td>FT</td>\n",
       "      <td>Principal Data Scientist</td>\n",
       "      <td>151000</td>\n",
       "      <td>US</td>\n",
       "      <td>100</td>\n",
       "      <td>US</td>\n",
       "      <td>L</td>\n",
       "    </tr>\n",
       "    <tr>\n",
       "      <th>8591</th>\n",
       "      <td>2020</td>\n",
       "      <td>EN</td>\n",
       "      <td>FT</td>\n",
       "      <td>Data Scientist</td>\n",
       "      <td>105000</td>\n",
       "      <td>US</td>\n",
       "      <td>100</td>\n",
       "      <td>US</td>\n",
       "      <td>S</td>\n",
       "    </tr>\n",
       "    <tr>\n",
       "      <th>8592</th>\n",
       "      <td>2020</td>\n",
       "      <td>EN</td>\n",
       "      <td>CT</td>\n",
       "      <td>Business Data Analyst</td>\n",
       "      <td>100000</td>\n",
       "      <td>US</td>\n",
       "      <td>100</td>\n",
       "      <td>US</td>\n",
       "      <td>L</td>\n",
       "    </tr>\n",
       "    <tr>\n",
       "      <th>8593</th>\n",
       "      <td>2021</td>\n",
       "      <td>SE</td>\n",
       "      <td>FT</td>\n",
       "      <td>Data Science Manager</td>\n",
       "      <td>94665</td>\n",
       "      <td>IN</td>\n",
       "      <td>50</td>\n",
       "      <td>IN</td>\n",
       "      <td>L</td>\n",
       "    </tr>\n",
       "  </tbody>\n",
       "</table>\n",
       "<p>8594 rows × 9 columns</p>\n",
       "</div>"
      ],
      "text/plain": [
       "      work_year experience_level employment_type                  job_title  \\\n",
       "0          2024               SE              FT                AI Engineer   \n",
       "1          2024               SE              FT  Machine Learning Engineer   \n",
       "2          2024               SE              FT  Machine Learning Engineer   \n",
       "3          2024               SE              FT  Machine Learning Engineer   \n",
       "4          2024               SE              FT  Machine Learning Engineer   \n",
       "...         ...              ...             ...                        ...   \n",
       "8589       2020               SE              FT             Data Scientist   \n",
       "8590       2021               MI              FT   Principal Data Scientist   \n",
       "8591       2020               EN              FT             Data Scientist   \n",
       "8592       2020               EN              CT      Business Data Analyst   \n",
       "8593       2021               SE              FT       Data Science Manager   \n",
       "\n",
       "      salary_in_usd employee_residence  remote_ratio company_location  \\\n",
       "0             90000                 AE             0               AE   \n",
       "1            180500                 US             0               US   \n",
       "2             96200                 US             0               US   \n",
       "3            235000                 AU             0               AU   \n",
       "4            175000                 AU             0               AU   \n",
       "...             ...                ...           ...              ...   \n",
       "8589         412000                 US           100               US   \n",
       "8590         151000                 US           100               US   \n",
       "8591         105000                 US           100               US   \n",
       "8592         100000                 US           100               US   \n",
       "8593          94665                 IN            50               IN   \n",
       "\n",
       "     company_size  \n",
       "0               L  \n",
       "1               M  \n",
       "2               M  \n",
       "3               M  \n",
       "4               M  \n",
       "...           ...  \n",
       "8589            L  \n",
       "8590            L  \n",
       "8591            S  \n",
       "8592            L  \n",
       "8593            L  \n",
       "\n",
       "[8594 rows x 9 columns]"
      ]
     },
     "execution_count": 15,
     "metadata": {},
     "output_type": "execute_result"
    }
   ],
   "source": [
    "# Menampilkan data yang sudah dicleaning\n",
    "data = pd.read_csv('salaries_cleaning.csv')\n",
    "\n",
    "data"
   ]
  },
  {
   "cell_type": "markdown",
   "metadata": {},
   "source": [
    "- **Statistik Deskriptif**"
   ]
  },
  {
   "cell_type": "code",
   "execution_count": 16,
   "metadata": {},
   "outputs": [
    {
     "name": "stdout",
     "output_type": "stream",
     "text": [
      "Mean salary:  146745.2243425646\n",
      "Median salary:  138750.0\n",
      "Mode salary:  0    150000\n",
      "Name: salary_in_usd, dtype: int64\n"
     ]
    }
   ],
   "source": [
    "# Hitung rata-rata salary\n",
    "mean_salary = data['salary_in_usd'].mean()\n",
    "print(\"Mean salary: \", mean_salary)\n",
    "\n",
    "# Hitung median salary\n",
    "median_salary = data['salary_in_usd'].median()\n",
    "print(\"Median salary: \", median_salary)\n",
    "\n",
    "# Hitung mode salary\n",
    "mode_salary = data['salary_in_usd'].mode()\n",
    "print(\"Mode salary: \", mode_salary)"
   ]
  },
  {
   "cell_type": "code",
   "execution_count": 17,
   "metadata": {},
   "outputs": [
    {
     "data": {
      "image/png": "[encoded data removed]",
      "text/plain": [
       "<Figure size 500x500 with 1 Axes>"
      ]
     },
     "metadata": {},
     "output_type": "display_data"
    }
   ],
   "source": [
    "# Data\n",
    "categories = ['Mean', 'Median', 'Mode']\n",
    "values = [mean_salary, median_salary, mode_salary[0]]  # Ambil mode pertama karena mode() mengembalikan Series\n",
    "\n",
    "# Membuat bar chart\n",
    "plt.figure(figsize=(5, 5))\n",
    "plt.bar(categories, values, color=['blue', 'orange', 'green'])\n",
    "\n",
    "# Menambahkan judul dan label sumbu\n",
    "plt.title('Grafik Mean, Median, dan Mode of Salary')\n",
    "plt.xlabel('Statistik')\n",
    "plt.ylabel('Salary in USD')\n",
    "\n",
    "# Menampilkan plot\n",
    "plt.show()"
   ]
  },
  {
   "cell_type": "markdown",
   "metadata": {},
   "source": [
    "Dari data yang diberikan, kita dapat membuat hasil analisis sebagai berikut:\n",
    "\n",
    "Rata-rata Gaji `(Mean Salary)`:\n",
    "Rata-rata gaji dari data tersebut adalah sekitar **$146,745.22.**\n",
    "\n",
    "Median Gaji `(Median Salary)`:\n",
    "Median gaji dari data tersebut adalah sebesar **$138,750.00.**\n",
    "\n",
    "Modus Gaji `(Mode Salary)`:\n",
    "Modus (nilai yang paling sering muncul) dari data gaji adalah **$150,000.00.**\n",
    "\n",
    "Hasil analisis ini memberikan gambaran tentang sentralitas atau pusat distribusi dari data gaji yang diberikan, dengan menunjukkan nilai rata-rata, median, dan modus gaji."
   ]
  },
  {
   "cell_type": "markdown",
   "metadata": {},
   "source": [
    "- **Statistik Inferensial**"
   ]
  },
  {
   "cell_type": "markdown",
   "metadata": {},
   "source": [
    "- Bagaimana pengaruh experience level terhadap ketimpangan salary di antara posisi-posisi pekerjaan dalam industri data science pada tahun 2024?"
   ]
  },
  {
   "cell_type": "code",
   "execution_count": 18,
   "metadata": {},
   "outputs": [
    {
     "name": "stdout",
     "output_type": "stream",
     "text": [
      "Confidence interval untuk rata-rata gaji Junior: (85485.39036409701, 93054.68655897993)\n",
      "Confidence interval untuk rata-rata gaji Intermediate: (120252.06106877595, 126146.75426223449)\n",
      "Confidence interval untuk rata-rata gaji Expert: (161438.23755320854, 165128.28411861806)\n",
      "Confidence interval untuk rata-rata gaji Director: (184826.08300983408, 200748.45402720294)\n"
     ]
    }
   ],
   "source": [
    "# Mengelompokan dan menghitung mean, standar deviasi, dan confidence interval pada Junior\n",
    "junior_salary = data[data['experience_level'] == 'EN']['salary_in_usd']\n",
    "mean_junior = np.mean(junior_salary)\n",
    "std_junior = np.std(junior_salary)\n",
    "conf_int_junior = stats.norm.interval(0.95, loc=mean_junior, scale=std_junior/np.sqrt(len(junior_salary)))\n",
    "print(\"Confidence interval untuk rata-rata gaji Junior:\", conf_int_junior)\n",
    "\n",
    "# Mengelompokan dan menghitung mean, standar deviasi, dan confidence interval pada Intermediate\n",
    "intermediate_salary = data[data['experience_level'] == 'MI']['salary_in_usd']\n",
    "mean_intermediate = np.mean(intermediate_salary)\n",
    "std_intermediate = np.std(intermediate_salary)\n",
    "conf_int_intermediate = stats.norm.interval(0.95, loc=mean_intermediate, scale=std_intermediate/np.sqrt(len(intermediate_salary)))\n",
    "print(\"Confidence interval untuk rata-rata gaji Intermediate:\", conf_int_intermediate)\n",
    "\n",
    "# Mengelompokan dan menghitung mean, standar deviasi, dan confidence interval pada Expert\n",
    "expert_salary = data[data['experience_level'] == 'SE']['salary_in_usd']\n",
    "mean_expert = np.mean(expert_salary)\n",
    "std_expert = np.std(expert_salary)\n",
    "conf_int_expert = stats.norm.interval(0.95, loc=mean_expert, scale=std_expert/np.sqrt(len(expert_salary)))\n",
    "print(\"Confidence interval untuk rata-rata gaji Expert:\", conf_int_expert)\n",
    "\n",
    "# Mengelompokan dan menghitung mean, standar deviasi, dan confidence interval pada Director\n",
    "director_salary = data[data['experience_level'] == 'EX']['salary_in_usd']\n",
    "mean_director = np.mean(director_salary)\n",
    "std_director = np.std(director_salary)\n",
    "conf_int_director = stats.norm.interval(0.95, loc=mean_director, scale=std_director/np.sqrt(len(director_salary)))\n",
    "print(\"Confidence interval untuk rata-rata gaji Director:\", conf_int_director)"
   ]
  },
  {
   "cell_type": "markdown",
   "metadata": {},
   "source": [
    "Hasil analisis dari data diatas menunjukkan confidence interval untuk rata-rata gaji pada berbagai tingkatan pengalaman dalam pekerjaan Data Science. Berikut adalah hasil analisisnya:\n",
    "\n",
    "- `Junior:` Confidence interval untuk rata-rata gaji entry-level adalah antara **$85,485.39** dan **$93,054.69.**\n",
    "\n",
    "- `Intermediate:` Confidence interval untuk rata-rata gaji mid-level adalah antara **$120,252.06** dan **$126,146.75.**\n",
    "\n",
    "- `Expert:` Confidence interval untuk rata-rata gaji senior adalah antara **$161,438.24** dan **$165,128.28.**\n",
    "\n",
    "- `Director:` Confidence interval untuk rata-rata gaji executive adalah antara **$184,826.08** dan **$200,748.45.**\n",
    "\n",
    "Dengan menggunakan confidence interval, kita dapat mengestimasi rentang nilai di mana rata-rata gaji sebenarnya mungkin berada dengan tingkat kepercayaan 95%. informasi ini berguna untuk memahami distribusi gaji pada berbagai tingkatan pengalaman dalam pekerjaan Data Science."
   ]
  },
  {
   "cell_type": "markdown",
   "metadata": {},
   "source": [
    "- **Hypotestis Testing**"
   ]
  },
  {
   "cell_type": "markdown",
   "metadata": {},
   "source": [
    "Saya menggunakan metode `f_oneway` dari pustaka `scipy.stats` untuk melakukan analisis uji `ANOVA`. Hasil uji ini akan memberikan nilai `F-statistic` dan `p-value`. Jika nilai `p-value` lebih rendah dari tingkat signifikansi yang ditetapkan biasanya 0,05, itu menunjukkan adanya perbedaan yang signifikan antara rata-rata gaji di antara berbagai kelompok experience level.\n",
    "\n",
    "- **H0**: Tidak ada perbedaan signifikan dalam rata-rata gaji antara kelompok eperience level (Junior, Intermediate, Expert, Director).\n",
    "\n",
    "- **H1**: Ada perbedaan signifikan dalam rata-rata gaji antara setidaknya dua kelompok experience level."
   ]
  },
  {
   "cell_type": "code",
   "execution_count": 19,
   "metadata": {},
   "outputs": [
    {
     "name": "stdout",
     "output_type": "stream",
     "text": [
      "Nilai F-statistic: 434.8577331524446\n",
      "Nilai p-value: 5.007074038557751e-263\n"
     ]
    }
   ],
   "source": [
    "# Data\n",
    "junior_salary = data[data['experience_level'] == 'EN']['salary_in_usd']\n",
    "intermediate_salary = data[data['experience_level'] == 'MI']['salary_in_usd']\n",
    "expert_salary = data[data['experience_level'] == 'SE']['salary_in_usd']\n",
    "director_salary = data[data['experience_level'] == 'EX']['salary_in_usd']\n",
    "\n",
    "# Uji ANOVA\n",
    "f_statistic, p_value = f_oneway(junior_salary, intermediate_salary, expert_salary, director_salary)\n",
    "\n",
    "print(\"Nilai F-statistic:\", f_statistic)\n",
    "print(\"Nilai p-value:\", p_value)"
   ]
  },
  {
   "cell_type": "markdown",
   "metadata": {},
   "source": [
    "Dari data yang diberikan, hasil analisis uji statistik menunjukkan:\n",
    "\n",
    "`Nilai F-Statistic:`\n",
    "Nilai F-Statistic adalah **434.8577331524446.** Semakin besar nilai F-Statistic, semakin signifikan perbedaan antara experience level tersebut.\n",
    "\n",
    "`Nilai p-value:`\n",
    "Nilai p-value sangat rendah, sebesar **5.007074038557751e-263**. Hal ini menunjukkan bahwa terdapat perbedaan yang sangat signifikan antara experience level. Dengan demikian, kita menolak hipotesis nol bahwa tidak ada perbedaan antara kelompok-kelompok tersebut.\n",
    "\n",
    "Hasil analisis ini memberikan indikasi kuat bahwa terdapat perbedaan yang signifikan antara experience level dalam data tersebut."
   ]
  },
  {
   "cell_type": "markdown",
   "metadata": {},
   "source": [
    "- **Visualisasi Data**"
   ]
  },
  {
   "cell_type": "markdown",
   "metadata": {},
   "source": [
    "Pertama saya akan membuat Upper salary dan Lower salary dengan 10% dari rata-rata."
   ]
  },
  {
   "cell_type": "code",
   "execution_count": 25,
   "metadata": {},
   "outputs": [
    {
     "name": "stderr",
     "output_type": "stream",
     "text": [
      "c:\\Users\\Alfarabi\\anaconda3\\Lib\\site-packages\\seaborn\\categorical.py:641: FutureWarning: The default of observed=False is deprecated and will be changed to True in a future version of pandas. Pass observed=False to retain current behavior or observed=True to adopt the future default and silence this warning.\n",
      "  grouped_vals = vals.groupby(grouper)\n"
     ]
    },
    {
     "data": {
      "image/png": "[encoded data removed]",
      "text/plain": [
       "<Figure size 500x500 with 1 Axes>"
      ]
     },
     "metadata": {},
     "output_type": "display_data"
    }
   ],
   "source": [
    "# Menghitung rata-rata salary\n",
    "average_salary = data['salary_in_usd'].mean()\n",
    "\n",
    "# Menentukan threshold untuk upper_salary dan lower_salary \n",
    "threshold = 0.1 * average_salary # (misal: 10% dari rata-rata)\n",
    "\n",
    "# Menghitung upper_salary, average_salary, dan lower_salary\n",
    "upper_salary = average_salary + threshold\n",
    "lower_salary = average_salary - threshold\n",
    "\n",
    "# Menambahkan kolom 'salary_category' berdasarkan kondisi\n",
    "data['salary_category'] = pd.cut(data['salary_in_usd'], bins=[-np.inf, lower_salary, upper_salary, np.inf], labels=['below_average', 'average', 'above_average'])\n",
    "\n",
    "# Plotting\n",
    "plt.figure(figsize=(5, 5))\n",
    "sns.countplot(x='salary_category', data=data, order=['below_average', 'average', 'above_average'])\n",
    "plt.title('Distribusi Salary Category')\n",
    "plt.xlabel('Salary Category')\n",
    "plt.ylabel('Count Total')\n",
    "plt.show()\n"
   ]
  },
  {
   "cell_type": "markdown",
   "metadata": {},
   "source": [
    "Hasil analisis data diatas, menunjukan bahwa karyawan yang mendapatkan salary below average atau yang dibawah rata-rata masih lebih banyak dibandingkan dengan yang lainnya."
   ]
  },
  {
   "cell_type": "markdown",
   "metadata": {},
   "source": [
    "- Negara yang mempunyai rata-rata persentase salary terbesar."
   ]
  },
  {
   "cell_type": "code",
   "execution_count": 21,
   "metadata": {},
   "outputs": [
    {
     "data": {
      "image/png": "[encoded data removed]",
      "text/plain": [
       "<Figure size 500x500 with 1 Axes>"
      ]
     },
     "metadata": {},
     "output_type": "display_data"
    }
   ],
   "source": [
    "# Melakukan grouping dan perhitungan rata-rata salary berdasarkan lokasi company\n",
    "avg_salary_by_location = data.groupby('company_location')['salary_in_usd'].mean().sort_values(ascending=False).head(5)\n",
    "\n",
    "# Plotting\n",
    "plt.figure(figsize=(5, 5))\n",
    "sns.barplot(x=avg_salary_by_location.index, y=avg_salary_by_location.values)\n",
    "plt.title('Perbandingan Jumlah Salary Berdasarkan Company Location  (Top 5)')\n",
    "plt.xlabel('Company Location')\n",
    "plt.ylabel('Average Salary (USD)')\n",
    "plt.show()"
   ]
  },
  {
   "cell_type": "markdown",
   "metadata": {},
   "source": [
    "Hasil analisis dari data berikut menunjukan bahwa terjadi gap rata-rata yang cukup jauh salary antara negara Qatar dengan negara yang lainnya."
   ]
  },
  {
   "cell_type": "markdown",
   "metadata": {},
   "source": [
    "- Melihat ketidaksetaraan salary pada employment type."
   ]
  },
  {
   "cell_type": "code",
   "execution_count": 22,
   "metadata": {},
   "outputs": [
    {
     "data": {
      "image/png": "[encoded data removed]",
      "text/plain": [
       "<Figure size 500x500 with 1 Axes>"
      ]
     },
     "metadata": {},
     "output_type": "display_data"
    }
   ],
   "source": [
    "# Data\n",
    "employment_types = data['employment_type'].unique()\n",
    "\n",
    "# Menginisialisasi dictionary untuk menyimpan rata-rata gaji setiap employment type\n",
    "mean_salaries = {}\n",
    "\n",
    "# Menghitung rata-rata gaji untuk setiap employment type dan menyimpannya dalam dictionary\n",
    "for employment_type in employment_types:\n",
    "    salary = data[data['employment_type'] == employment_type]['salary_in_usd']\n",
    "    mean_salaries[employment_type] = salary.mean()\n",
    "\n",
    "# Uji ANOVA untuk menguji perbedaan signifikan antara rata-rata gaji employment type\n",
    "f_statistic, p_value = f_oneway(*[data[data['employment_type'] == et]['salary_in_usd'] for et in employment_types])\n",
    "\n",
    "# Membuat pie chart\n",
    "plt.figure(figsize=(5, 5))\n",
    "plt.pie(mean_salaries.values(), labels=mean_salaries.keys(), autopct='%1.1f%%', startangle=140)\n",
    "plt.title('Persentase Rata-rata Gaji Berdasarkan Employment Type')\n",
    "plt.axis('equal')  # Membuat pie chart menjadi lingkaran\n",
    "plt.show()"
   ]
  },
  {
   "cell_type": "markdown",
   "metadata": {},
   "source": [
    "Hasil analisis dari data diatas menunjujukan bahwa FT memiliki nilai 39.5%, CT memiliki nilai 30.1%, PT memiliki nilai 16.5%, FL memiliki nilai 13.9% . Dengan begitu terdapat ketidaksetaraan diantara employment type."
   ]
  },
  {
   "cell_type": "markdown",
   "metadata": {},
   "source": [
    "- Apa top 5 job title yang memiliki rata-rata salary tertinggi."
   ]
  },
  {
   "cell_type": "code",
   "execution_count": 23,
   "metadata": {},
   "outputs": [
    {
     "data": {
      "image/png": "[encoded data removed]",
      "text/plain": [
       "<Figure size 500x500 with 1 Axes>"
      ]
     },
     "metadata": {},
     "output_type": "display_data"
    }
   ],
   "source": [
    "# Melakukan grouping dan perhitungan rata-rata salary berdasarkan job title\n",
    "avg_salary_by_job_title = data.groupby('job_title')['salary_in_usd'].mean().sort_values(ascending=False).head(5)\n",
    "\n",
    "# Plotting\n",
    "plt.figure(figsize=(5, 5))\n",
    "sns.barplot(x=avg_salary_by_job_title.index, y=avg_salary_by_job_title.values)\n",
    "plt.title('Perbandingan Jumlah Salary Berdasarkan Job Title  (Top 5)')\n",
    "plt.xlabel('Job Title')\n",
    "plt.ylabel('Average Salary (USD)')\n",
    "plt.xticks(rotation=90)\n",
    "plt.show()"
   ]
  },
  {
   "cell_type": "markdown",
   "metadata": {},
   "source": [
    "Hasil analisis diatas menunjukan bahwa top 5 salary terbesar diantara job title yaitu Analitics Engineering Manager, Data Science Tech Lead, Head of Machine Learning, Managing Director Data Science, dan AWS Data Architect."
   ]
  },
  {
   "cell_type": "markdown",
   "metadata": {},
   "source": [
    "- Tren work setting yang paling diminati oleh employee."
   ]
  },
  {
   "cell_type": "code",
   "execution_count": 24,
   "metadata": {},
   "outputs": [
    {
     "data": {
      "image/png": "[encoded data removed]",
      "text/plain": [
       "<Figure size 500x500 with 1 Axes>"
      ]
     },
     "metadata": {},
     "output_type": "display_data"
    }
   ],
   "source": [
    "# Data work setting\n",
    "work_setting_counts = data['remote_ratio'].value_counts()\n",
    "\n",
    "# Plotting bar chart\n",
    "plt.figure(figsize=(5, 5))\n",
    "work_setting_counts.plot(kind='bar', color=['purple', 'orange', 'green'])\n",
    "\n",
    "# Menambahkan judul dan label sumbu\n",
    "plt.title('Tren Work Setting yang Paling Diminati oleh Employee')\n",
    "plt.xlabel('Remote Ratio')\n",
    "plt.ylabel('Jumlah Employee')\n",
    "\n",
    "# Menampilkan plot\n",
    "plt.show()\n"
   ]
  },
  {
   "cell_type": "markdown",
   "metadata": {},
   "source": [
    "Hasil Analisis data diatas Tren Work Setting yang paling diminati yaitu No remote work diikuti oleh Fully remote dan terakhir Partially remote."
   ]
  },
  {
   "cell_type": "markdown",
   "metadata": {},
   "source": [
    "## D. Conclusion"
   ]
  },
  {
   "cell_type": "markdown",
   "metadata": {},
   "source": [
    "Kesimpulan dari hasil analisis data:\n",
    "\n",
    "1. `Negara yang mempunyai rata-rata persentase salary terbesar:` Qatar menjadi negara yang memiliki persentase salary terbesar, sehingga dapat disimpulkan bahwa rata-rata gaji karyawan di Qatar lebih tinggi diantara negara lain.\n",
    "\n",
    "2. `Company location mempengaruhi perbedaan salary:` Terjadi gap rata-rata salary yang cukup jauh antara Qatar dengan Illinois dan yang lainnya, yang menunjukan bahwa company location merupakan faktor terjadinya perbedaan salary.\n",
    "\n",
    "3. `Dampak experience level terhadap perbedaan salary:` Ada pengaruh yang signifikan dari tingkat pengalaman terhadap gaji. Analisis menggunakan confidence interval menunjukkan bahwa rata-rata gaji untuk tingkat pengalaman junior, intermediate, expert, dan director memiliki perbedaan yang signifikan.\n",
    "\n",
    "4. `Perbedaan salary antara employment type:` Perbedaan salary antar employment type terlihat sangat jelas dengan rata-rata salary tertinggi terdapat pada FT dengan nilai 39.5% dan rata-rata salary terendahnya terdapat pada FL dengan nilai 13.9%.\n",
    "\n",
    "5. `Top 5 job title yang memiliki rata-rata salary tertinggi:` Analitics Engineering Manager menjadi urutan pertama rata-rata salary yang paling tinggi, dan diikuti dengan Data Science Tech Lead, selanjutnya diikuti Head of Machine Learning, lalu selanjutnya adalah Managing Director Data Science, dan yang urutan kelima ialah AWS Data Architect.\n",
    "\n",
    "6. `Tren work setting paling banyak diminati:` Tren work setting yang paling banyak diminati ialah No remote work dan yang paling kurang diminati ialah partially remote.\n",
    "\n",
    "**Oleh karena itu, berdasarkan analisis yang telah dilakukan, saya menyarankan agar perusahaan mempertimbangkan aspek-aspek seperti lokasi, tingkat pengalaman, jenis karyawan, dan jabatan dalam merancang kebijakan gaji dan strategi sumber daya manusia untuk meningkatkan kesejahteraan karyawan dan kinerja keseluruhan perusahaan.**\n"
   ]
  }
 ],
 "metadata": {
  "kernelspec": {
   "display_name": "base",
   "language": "python",
   "name": "python3"
  },
  "language_info": {
   "codemirror_mode": {
    "name": "ipython",
    "version": 3
   },
   "file_extension": ".py",
   "mimetype": "text/x-python",
   "name": "python",
   "nbconvert_exporter": "python",
   "pygments_lexer": "ipython3",
   "version": "3.11.7"
  }
 },
 "nbformat": 4,
 "nbformat_minor": 2
}
