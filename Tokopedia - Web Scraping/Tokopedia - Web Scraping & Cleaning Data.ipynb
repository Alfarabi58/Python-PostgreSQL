{
 "cells": [
  {
   "cell_type": "markdown",
   "metadata": {},
   "source": [
    "## Nama : Alfarabi\n",
    "\n",
    "### Objektif: Melakukan pengumpulan data penjualan produk seblak dari platform e-commerce Tokopedia menggunakan teknik web scraping, lalu membuat data preparation untuk pengolahan data dan melakukan analisis data yang sudah diambil."
   ]
  },
  {
   "cell_type": "code",
   "execution_count": 3,
   "metadata": {},
   "outputs": [
    {
     "name": "stdout",
     "output_type": "stream",
     "text": [
      "Requirement already satisfied: bs4 in c:\\users\\alfarabi\\anaconda3\\lib\\site-packages (0.0.2)\n",
      "Requirement already satisfied: selenium in c:\\users\\alfarabi\\anaconda3\\lib\\site-packages (4.19.0)\n",
      "Requirement already satisfied: beautifulsoup4 in c:\\users\\alfarabi\\anaconda3\\lib\\site-packages (from bs4) (4.12.2)\n",
      "Requirement already satisfied: urllib3<3,>=1.26 in c:\\users\\alfarabi\\anaconda3\\lib\\site-packages (from urllib3[socks]<3,>=1.26->selenium) (2.0.7)\n",
      "Requirement already satisfied: trio~=0.17 in c:\\users\\alfarabi\\anaconda3\\lib\\site-packages (from selenium) (0.25.0)\n",
      "Requirement already satisfied: trio-websocket~=0.9 in c:\\users\\alfarabi\\anaconda3\\lib\\site-packages (from selenium) (0.11.1)\n",
      "Requirement already satisfied: certifi>=2021.10.8 in c:\\users\\alfarabi\\anaconda3\\lib\\site-packages (from selenium) (2024.2.2)\n",
      "Requirement already satisfied: typing_extensions>=4.9.0 in c:\\users\\alfarabi\\anaconda3\\lib\\site-packages (from selenium) (4.9.0)\n",
      "Requirement already satisfied: attrs>=23.2.0 in c:\\users\\alfarabi\\anaconda3\\lib\\site-packages (from trio~=0.17->selenium) (23.2.0)\n",
      "Requirement already satisfied: sortedcontainers in c:\\users\\alfarabi\\anaconda3\\lib\\site-packages (from trio~=0.17->selenium) (2.4.0)\n",
      "Requirement already satisfied: idna in c:\\users\\alfarabi\\anaconda3\\lib\\site-packages (from trio~=0.17->selenium) (3.4)\n",
      "Requirement already satisfied: outcome in c:\\users\\alfarabi\\anaconda3\\lib\\site-packages (from trio~=0.17->selenium) (1.3.0.post0)\n",
      "Requirement already satisfied: sniffio>=1.3.0 in c:\\users\\alfarabi\\anaconda3\\lib\\site-packages (from trio~=0.17->selenium) (1.3.0)\n",
      "Requirement already satisfied: cffi>=1.14 in c:\\users\\alfarabi\\anaconda3\\lib\\site-packages (from trio~=0.17->selenium) (1.16.0)\n",
      "Requirement already satisfied: wsproto>=0.14 in c:\\users\\alfarabi\\anaconda3\\lib\\site-packages (from trio-websocket~=0.9->selenium) (1.2.0)\n",
      "Requirement already satisfied: pysocks!=1.5.7,<2.0,>=1.5.6 in c:\\users\\alfarabi\\anaconda3\\lib\\site-packages (from urllib3[socks]<3,>=1.26->selenium) (1.7.1)\n",
      "Requirement already satisfied: soupsieve>1.2 in c:\\users\\alfarabi\\anaconda3\\lib\\site-packages (from beautifulsoup4->bs4) (2.5)\n",
      "Requirement already satisfied: pycparser in c:\\users\\alfarabi\\anaconda3\\lib\\site-packages (from cffi>=1.14->trio~=0.17->selenium) (2.21)\n",
      "Requirement already satisfied: h11<1,>=0.9.0 in c:\\users\\alfarabi\\anaconda3\\lib\\site-packages (from wsproto>=0.14->trio-websocket~=0.9->selenium) (0.14.0)\n"
     ]
    }
   ],
   "source": [
    "! pip install bs4 selenium"
   ]
  },
  {
   "cell_type": "markdown",
   "metadata": {},
   "source": [
    "## Library"
   ]
  },
  {
   "cell_type": "code",
   "execution_count": 1,
   "metadata": {},
   "outputs": [],
   "source": [
    "# Library yang digunakan\n",
    "import pandas as pd\n",
    "from bs4 import BeautifulSoup\n",
    "from selenium import webdriver\n",
    "import time\n",
    "from scipy import stats\n",
    "import numpy as np\n",
    "import matplotlib.pyplot as plt\n",
    "import seaborn as sns"
   ]
  },
  {
   "cell_type": "markdown",
   "metadata": {},
   "source": [
    "## A. Web Scraping"
   ]
  },
  {
   "cell_type": "markdown",
   "metadata": {},
   "source": [
    "### 1. Pengambilan data dari halaman pencarian kata kunci produk \"seblak\"."
   ]
  },
  {
   "cell_type": "code",
   "execution_count": 1,
   "metadata": {},
   "outputs": [
    {
     "ename": "NameError",
     "evalue": "name 'webdriver' is not defined",
     "output_type": "error",
     "traceback": [
      "\u001b[1;31m---------------------------------------------------------------------------\u001b[0m",
      "\u001b[1;31mNameError\u001b[0m                                 Traceback (most recent call last)",
      "Cell \u001b[1;32mIn[1], line 3\u001b[0m\n\u001b[0;32m      1\u001b[0m \u001b[38;5;66;03m# URL yang akan diakses\u001b[39;00m\n\u001b[0;32m      2\u001b[0m url \u001b[38;5;241m=\u001b[39m \u001b[38;5;124m'\u001b[39m\u001b[38;5;124mhttps://www.tokopedia.com/search?navsource=&page=1&q=seblak&srp_component_id=02.01.00.00&srp_page_id=&srp_page_title=&st=\u001b[39m\u001b[38;5;124m'\u001b[39m\n\u001b[1;32m----> 3\u001b[0m driver \u001b[38;5;241m=\u001b[39m webdriver\u001b[38;5;241m.\u001b[39mChrome()\n\u001b[0;32m      4\u001b[0m driver\u001b[38;5;241m.\u001b[39mget(url)\n\u001b[0;32m      5\u001b[0m time\u001b[38;5;241m.\u001b[39msleep(\u001b[38;5;241m0.5\u001b[39m)\n",
      "\u001b[1;31mNameError\u001b[0m: name 'webdriver' is not defined"
     ]
    }
   ],
   "source": [
    "# URL yang akan diakses\n",
    "url = 'https://www.tokopedia.com/search?navsource=&page=1&q=seblak&srp_component_id=02.01.00.00&srp_page_id=&srp_page_title=&st='\n",
    "driver = webdriver.Chrome()\n",
    "driver.get(url)\n",
    "time.sleep(0.5)\n",
    "\n",
    "# Membuat objek BeautifulSoup untuk parsing HTML halaman web\n",
    "soup = BeautifulSoup(driver.page_source, 'html.parser')"
   ]
  },
  {
   "cell_type": "code",
   "execution_count": null,
   "metadata": {},
   "outputs": [],
   "source": [
    "soup.find_all('div',{\"class\":\"prd_link-product-name css-3um8ox\"})"
   ]
  },
  {
   "cell_type": "code",
   "execution_count": null,
   "metadata": {},
   "outputs": [],
   "source": [
    "for div_name in soup.find_all('div',{\"class\":\"prd_link-product-name css-3um8ox\"}):\n",
    "    print(div_tag.get_text())"
   ]
  },
  {
   "cell_type": "markdown",
   "metadata": {},
   "source": [
    "### 2. Pengambilan data Nama Produk, Harga Produk, Penjual, Kota Toko, Banyaknya Terjual, dan Rating Produk."
   ]
  },
  {
   "cell_type": "code",
   "execution_count": null,
   "metadata": {},
   "outputs": [],
   "source": [
    "# Pembuatan WebDriver\n",
    "driver = webdriver.Chrome()\n",
    "\n",
    "# Pembuatan list\n",
    "data = []\n",
    "\n",
    "# Loop untuk menelusuri halaman pencarian Tokopedia\n",
    "for i in range(1, 11):\n",
    "    url = \"https://www.tokopedia.com/search?navsource=&page={}&q=seblak&srp_component_id=02.01.00.00&srp_page_id=&srp_page_title=&st=\".format(i)\n",
    "    driver.get(url)\n",
    "    time.sleep(1)\n",
    "    soup = BeautifulSoup(driver.page_source, \"html.parser\")\n",
    "\n",
    "    # Loop melalui setiap barang pada halaman\n",
    "    for Produk in soup.find_all('div', {\"class\": \"css-1asz3by\"}):\n",
    "        try:\n",
    "            Nama = barang.find('div', {\"class\": \"prd_link-product-name css-3um8ox\"}).text\n",
    "        except AttributeError:\n",
    "            Nama = None\n",
    "\n",
    "        try:\n",
    "            Harga = barang.find('div', {\"class\": \"prd_link-product-price css-h66vau\"}).text\n",
    "        except AttributeError:\n",
    "            Harga = None\n",
    "\n",
    "        try:\n",
    "            Penjual = barang.find('span', {\"class\": \"prd_link-shop-name css-1kdc32b flip\"}).text\n",
    "        except AttributeError:\n",
    "            Penjual = None\n",
    "\n",
    "        try:\n",
    "            Lokasi = barang.find('span', {\"class\": \"prd_link-shop-loc css-1kdc32b flip\"}).text\n",
    "        except AttributeError:\n",
    "            Lokasi = None\n",
    "\n",
    "        try:\n",
    "            Terjual = barang.find('span', {\"class\": \"prd_label-integrity css-1sgek4h\"}).text\n",
    "        except AttributeError:\n",
    "            Terjual = None\n",
    "\n",
    "        try:\n",
    "            Rating = barang.find('span', {\"class\": \"prd_rating-average-text css-t70v7i\"}).text\n",
    "        except AttributeError:\n",
    "            Rating = None\n",
    "\n",
    "        # Menambahkan data ke dalam list\n",
    "        data.append((Nama, Harga, Penjual, Lokasi, Terjual, Rating))\n",
    "\n",
    "# Untuk menutup WebDriver agar tidak running terus\n",
    "driver.close()\n",
    "\n",
    "# Membuat DataFrame dari list data\n",
    "df = pd.DataFrame(data, columns=['Nama_Produk', 'Harga_Produk', 'Penjual', 'Kota_Toko', 'Banyaknya_Terjual', 'Rating_Produk'])\n",
    "df"
   ]
  },
  {
   "cell_type": "markdown",
   "metadata": {},
   "source": [
    "## B. Data Preparation"
   ]
  },
  {
   "cell_type": "markdown",
   "metadata": {},
   "source": [
    "### 1. Data Exploration."
   ]
  },
  {
   "cell_type": "code",
   "execution_count": 4,
   "metadata": {},
   "outputs": [
    {
     "data": {
      "text/html": [
       "<div>\n",
       "<style scoped>\n",
       "    .dataframe tbody tr th:only-of-type {\n",
       "        vertical-align: middle;\n",
       "    }\n",
       "\n",
       "    .dataframe tbody tr th {\n",
       "        vertical-align: top;\n",
       "    }\n",
       "\n",
       "    .dataframe thead th {\n",
       "        text-align: right;\n",
       "    }\n",
       "</style>\n",
       "<table border=\"1\" class=\"dataframe\">\n",
       "  <thead>\n",
       "    <tr style=\"text-align: right;\">\n",
       "      <th></th>\n",
       "      <th>Nama_Produk</th>\n",
       "      <th>Harga_Produk</th>\n",
       "      <th>Penjual</th>\n",
       "      <th>Kota_Toko</th>\n",
       "      <th>Banyaknya_Terjual</th>\n",
       "      <th>Rating_Produk</th>\n",
       "    </tr>\n",
       "  </thead>\n",
       "  <tbody>\n",
       "    <tr>\n",
       "      <th>0</th>\n",
       "      <td>Kylafood Seblak karuhun</td>\n",
       "      <td>Rp11.880</td>\n",
       "      <td>NaN</td>\n",
       "      <td>NaN</td>\n",
       "      <td>4 rb+ terjual</td>\n",
       "      <td>4.8</td>\n",
       "    </tr>\n",
       "    <tr>\n",
       "      <th>1</th>\n",
       "      <td>Kylafood Seblak Mie Baso Sapi Play</td>\n",
       "      <td>Rp24.200</td>\n",
       "      <td>NaN</td>\n",
       "      <td>NaN</td>\n",
       "      <td>250+ terjual</td>\n",
       "      <td>4.9</td>\n",
       "    </tr>\n",
       "    <tr>\n",
       "      <th>2</th>\n",
       "      <td>Kylafood Mix Fav Selebgram Seblak Original &amp; B...</td>\n",
       "      <td>Rp44.340</td>\n",
       "      <td>NaN</td>\n",
       "      <td>NaN</td>\n",
       "      <td>100+ terjual</td>\n",
       "      <td>4.8</td>\n",
       "    </tr>\n",
       "    <tr>\n",
       "      <th>3</th>\n",
       "      <td>Kylafood Seblak Original</td>\n",
       "      <td>Rp15.750</td>\n",
       "      <td>kylafood</td>\n",
       "      <td>Bandung</td>\n",
       "      <td>10rb+ terjual</td>\n",
       "      <td>4.9</td>\n",
       "    </tr>\n",
       "    <tr>\n",
       "      <th>4</th>\n",
       "      <td>Geli Food Seblak Ceker Tanpa Tulang Super Peda...</td>\n",
       "      <td>Rp24.000</td>\n",
       "      <td>Lidigeli</td>\n",
       "      <td>Kab. Garut</td>\n",
       "      <td>100+ terjual</td>\n",
       "      <td>4.8</td>\n",
       "    </tr>\n",
       "    <tr>\n",
       "      <th>...</th>\n",
       "      <td>...</td>\n",
       "      <td>...</td>\n",
       "      <td>...</td>\n",
       "      <td>...</td>\n",
       "      <td>...</td>\n",
       "      <td>...</td>\n",
       "    </tr>\n",
       "    <tr>\n",
       "      <th>362</th>\n",
       "      <td>[250 gr] Kerupuk Seblak Pedas</td>\n",
       "      <td>Rp11.500</td>\n",
       "      <td>CamilanJati</td>\n",
       "      <td>Kab. Sidoarjo</td>\n",
       "      <td>50+ terjual</td>\n",
       "      <td>5.0</td>\n",
       "    </tr>\n",
       "    <tr>\n",
       "      <th>363</th>\n",
       "      <td>Gelifood Seblak Instan Kerupuk Mawar Bumbu Ken...</td>\n",
       "      <td>Rp15.000</td>\n",
       "      <td>Lidigeli</td>\n",
       "      <td>Kab. Garut</td>\n",
       "      <td>250+ terjual</td>\n",
       "      <td>4.8</td>\n",
       "    </tr>\n",
       "    <tr>\n",
       "      <th>364</th>\n",
       "      <td>Geli Food Seblak Ceker Tanpa Tulang Super Peda...</td>\n",
       "      <td>Rp24.000</td>\n",
       "      <td>Lidigeli</td>\n",
       "      <td>Kab. Garut</td>\n",
       "      <td>100+ terjual</td>\n",
       "      <td>4.8</td>\n",
       "    </tr>\n",
       "    <tr>\n",
       "      <th>365</th>\n",
       "      <td>Seblak Instan Komplit Pedas Gurih Nikmat</td>\n",
       "      <td>Rp5.999</td>\n",
       "      <td>Baso Aci Ayang</td>\n",
       "      <td>Kab. Garut</td>\n",
       "      <td>3rb+ terjual</td>\n",
       "      <td>4.9</td>\n",
       "    </tr>\n",
       "    <tr>\n",
       "      <th>366</th>\n",
       "      <td>Seblak Instan Pedas Home Made</td>\n",
       "      <td>Rp3.500</td>\n",
       "      <td>the Dhecip</td>\n",
       "      <td>Tangerang Selatan</td>\n",
       "      <td>3rb+ terjual</td>\n",
       "      <td>4.9</td>\n",
       "    </tr>\n",
       "  </tbody>\n",
       "</table>\n",
       "<p>367 rows × 6 columns</p>\n",
       "</div>"
      ],
      "text/plain": [
       "                                           Nama_Produk Harga_Produk  \\\n",
       "0                              Kylafood Seblak karuhun     Rp11.880   \n",
       "1                   Kylafood Seblak Mie Baso Sapi Play     Rp24.200   \n",
       "2    Kylafood Mix Fav Selebgram Seblak Original & B...     Rp44.340   \n",
       "3                             Kylafood Seblak Original     Rp15.750   \n",
       "4    Geli Food Seblak Ceker Tanpa Tulang Super Peda...     Rp24.000   \n",
       "..                                                 ...          ...   \n",
       "362                      [250 gr] Kerupuk Seblak Pedas     Rp11.500   \n",
       "363  Gelifood Seblak Instan Kerupuk Mawar Bumbu Ken...     Rp15.000   \n",
       "364  Geli Food Seblak Ceker Tanpa Tulang Super Peda...     Rp24.000   \n",
       "365           Seblak Instan Komplit Pedas Gurih Nikmat      Rp5.999   \n",
       "366                      Seblak Instan Pedas Home Made      Rp3.500   \n",
       "\n",
       "            Penjual          Kota_Toko Banyaknya_Terjual  Rating_Produk  \n",
       "0               NaN                NaN     4 rb+ terjual            4.8  \n",
       "1               NaN                NaN      250+ terjual            4.9  \n",
       "2               NaN                NaN      100+ terjual            4.8  \n",
       "3          kylafood            Bandung     10rb+ terjual            4.9  \n",
       "4          Lidigeli         Kab. Garut      100+ terjual            4.8  \n",
       "..              ...                ...               ...            ...  \n",
       "362     CamilanJati      Kab. Sidoarjo       50+ terjual            5.0  \n",
       "363        Lidigeli         Kab. Garut      250+ terjual            4.8  \n",
       "364        Lidigeli         Kab. Garut      100+ terjual            4.8  \n",
       "365  Baso Aci Ayang         Kab. Garut      3rb+ terjual            4.9  \n",
       "366      the Dhecip  Tangerang Selatan      3rb+ terjual            4.9  \n",
       "\n",
       "[367 rows x 6 columns]"
      ]
     },
     "execution_count": 4,
     "metadata": {},
     "output_type": "execute_result"
    }
   ],
   "source": [
    "# Untuk membaca data dari file CSV \n",
    "df = pd.read_csv('P0G3_Alfarabi')\n",
    "df"
   ]
  },
  {
   "cell_type": "markdown",
   "metadata": {},
   "source": [
    "- Langkah pertama saya akan menapilkan informasi dasar dari hasil data webscraping dengan menggunakan `.info()`."
   ]
  },
  {
   "cell_type": "code",
   "execution_count": 5,
   "metadata": {},
   "outputs": [
    {
     "name": "stdout",
     "output_type": "stream",
     "text": [
      "<class 'pandas.core.frame.DataFrame'>\n",
      "RangeIndex: 367 entries, 0 to 366\n",
      "Data columns (total 6 columns):\n",
      " #   Column             Non-Null Count  Dtype  \n",
      "---  ------             --------------  -----  \n",
      " 0   Nama_Produk        367 non-null    object \n",
      " 1   Harga_Produk       367 non-null    object \n",
      " 2   Penjual            350 non-null    object \n",
      " 3   Kota_Toko          350 non-null    object \n",
      " 4   Banyaknya_Terjual  367 non-null    object \n",
      " 5   Rating_Produk      357 non-null    float64\n",
      "dtypes: float64(1), object(5)\n",
      "memory usage: 17.3+ KB\n"
     ]
    }
   ],
   "source": [
    "# Untuk menampilkan informasi DataFrame\n",
    "df.info()"
   ]
  },
  {
   "cell_type": "markdown",
   "metadata": {},
   "source": [
    "- Lalu saya akan menampilkan beberapa baris dari data dengan menggunakan `.head()`."
   ]
  },
  {
   "cell_type": "code",
   "execution_count": 6,
   "metadata": {},
   "outputs": [
    {
     "data": {
      "text/html": [
       "<div>\n",
       "<style scoped>\n",
       "    .dataframe tbody tr th:only-of-type {\n",
       "        vertical-align: middle;\n",
       "    }\n",
       "\n",
       "    .dataframe tbody tr th {\n",
       "        vertical-align: top;\n",
       "    }\n",
       "\n",
       "    .dataframe thead th {\n",
       "        text-align: right;\n",
       "    }\n",
       "</style>\n",
       "<table border=\"1\" class=\"dataframe\">\n",
       "  <thead>\n",
       "    <tr style=\"text-align: right;\">\n",
       "      <th></th>\n",
       "      <th>Nama_Produk</th>\n",
       "      <th>Harga_Produk</th>\n",
       "      <th>Penjual</th>\n",
       "      <th>Kota_Toko</th>\n",
       "      <th>Banyaknya_Terjual</th>\n",
       "      <th>Rating_Produk</th>\n",
       "    </tr>\n",
       "  </thead>\n",
       "  <tbody>\n",
       "    <tr>\n",
       "      <th>0</th>\n",
       "      <td>Kylafood Seblak karuhun</td>\n",
       "      <td>Rp11.880</td>\n",
       "      <td>NaN</td>\n",
       "      <td>NaN</td>\n",
       "      <td>4 rb+ terjual</td>\n",
       "      <td>4.8</td>\n",
       "    </tr>\n",
       "    <tr>\n",
       "      <th>1</th>\n",
       "      <td>Kylafood Seblak Mie Baso Sapi Play</td>\n",
       "      <td>Rp24.200</td>\n",
       "      <td>NaN</td>\n",
       "      <td>NaN</td>\n",
       "      <td>250+ terjual</td>\n",
       "      <td>4.9</td>\n",
       "    </tr>\n",
       "    <tr>\n",
       "      <th>2</th>\n",
       "      <td>Kylafood Mix Fav Selebgram Seblak Original &amp; B...</td>\n",
       "      <td>Rp44.340</td>\n",
       "      <td>NaN</td>\n",
       "      <td>NaN</td>\n",
       "      <td>100+ terjual</td>\n",
       "      <td>4.8</td>\n",
       "    </tr>\n",
       "    <tr>\n",
       "      <th>3</th>\n",
       "      <td>Kylafood Seblak Original</td>\n",
       "      <td>Rp15.750</td>\n",
       "      <td>kylafood</td>\n",
       "      <td>Bandung</td>\n",
       "      <td>10rb+ terjual</td>\n",
       "      <td>4.9</td>\n",
       "    </tr>\n",
       "    <tr>\n",
       "      <th>4</th>\n",
       "      <td>Geli Food Seblak Ceker Tanpa Tulang Super Peda...</td>\n",
       "      <td>Rp24.000</td>\n",
       "      <td>Lidigeli</td>\n",
       "      <td>Kab. Garut</td>\n",
       "      <td>100+ terjual</td>\n",
       "      <td>4.8</td>\n",
       "    </tr>\n",
       "  </tbody>\n",
       "</table>\n",
       "</div>"
      ],
      "text/plain": [
       "                                         Nama_Produk Harga_Produk   Penjual  \\\n",
       "0                            Kylafood Seblak karuhun     Rp11.880       NaN   \n",
       "1                 Kylafood Seblak Mie Baso Sapi Play     Rp24.200       NaN   \n",
       "2  Kylafood Mix Fav Selebgram Seblak Original & B...     Rp44.340       NaN   \n",
       "3                           Kylafood Seblak Original     Rp15.750  kylafood   \n",
       "4  Geli Food Seblak Ceker Tanpa Tulang Super Peda...     Rp24.000  Lidigeli   \n",
       "\n",
       "    Kota_Toko Banyaknya_Terjual  Rating_Produk  \n",
       "0         NaN     4 rb+ terjual            4.8  \n",
       "1         NaN      250+ terjual            4.9  \n",
       "2         NaN      100+ terjual            4.8  \n",
       "3     Bandung     10rb+ terjual            4.9  \n",
       "4  Kab. Garut      100+ terjual            4.8  "
      ]
     },
     "execution_count": 6,
     "metadata": {},
     "output_type": "execute_result"
    }
   ],
   "source": [
    "# Melihat 5 baris teratas\n",
    "df.head()"
   ]
  },
  {
   "cell_type": "markdown",
   "metadata": {},
   "source": [
    "- Setelah itu saya menampilkan informasi dari nama kolom"
   ]
  },
  {
   "cell_type": "code",
   "execution_count": 7,
   "metadata": {},
   "outputs": [
    {
     "data": {
      "text/plain": [
       "Index(['Nama_Produk', 'Harga_Produk', 'Penjual', 'Kota_Toko',\n",
       "       'Banyaknya_Terjual', 'Rating_Produk'],\n",
       "      dtype='object')"
      ]
     },
     "execution_count": 7,
     "metadata": {},
     "output_type": "execute_result"
    }
   ],
   "source": [
    "# Melihat nama kolom\n",
    "df.columns"
   ]
  },
  {
   "cell_type": "markdown",
   "metadata": {},
   "source": [
    "- Lalu saya menampilkan statistik deskriptif dari DataFrame dengan menggunakan `.describe()`."
   ]
  },
  {
   "cell_type": "code",
   "execution_count": 8,
   "metadata": {},
   "outputs": [
    {
     "data": {
      "text/html": [
       "<div>\n",
       "<style scoped>\n",
       "    .dataframe tbody tr th:only-of-type {\n",
       "        vertical-align: middle;\n",
       "    }\n",
       "\n",
       "    .dataframe tbody tr th {\n",
       "        vertical-align: top;\n",
       "    }\n",
       "\n",
       "    .dataframe thead th {\n",
       "        text-align: right;\n",
       "    }\n",
       "</style>\n",
       "<table border=\"1\" class=\"dataframe\">\n",
       "  <thead>\n",
       "    <tr style=\"text-align: right;\">\n",
       "      <th></th>\n",
       "      <th>Rating_Produk</th>\n",
       "    </tr>\n",
       "  </thead>\n",
       "  <tbody>\n",
       "    <tr>\n",
       "      <th>count</th>\n",
       "      <td>357.000000</td>\n",
       "    </tr>\n",
       "    <tr>\n",
       "      <th>mean</th>\n",
       "      <td>4.894678</td>\n",
       "    </tr>\n",
       "    <tr>\n",
       "      <th>std</th>\n",
       "      <td>0.101946</td>\n",
       "    </tr>\n",
       "    <tr>\n",
       "      <th>min</th>\n",
       "      <td>4.300000</td>\n",
       "    </tr>\n",
       "    <tr>\n",
       "      <th>25%</th>\n",
       "      <td>4.800000</td>\n",
       "    </tr>\n",
       "    <tr>\n",
       "      <th>50%</th>\n",
       "      <td>4.900000</td>\n",
       "    </tr>\n",
       "    <tr>\n",
       "      <th>75%</th>\n",
       "      <td>5.000000</td>\n",
       "    </tr>\n",
       "    <tr>\n",
       "      <th>max</th>\n",
       "      <td>5.000000</td>\n",
       "    </tr>\n",
       "  </tbody>\n",
       "</table>\n",
       "</div>"
      ],
      "text/plain": [
       "       Rating_Produk\n",
       "count     357.000000\n",
       "mean        4.894678\n",
       "std         0.101946\n",
       "min         4.300000\n",
       "25%         4.800000\n",
       "50%         4.900000\n",
       "75%         5.000000\n",
       "max         5.000000"
      ]
     },
     "execution_count": 8,
     "metadata": {},
     "output_type": "execute_result"
    }
   ],
   "source": [
    "df.describe()"
   ]
  },
  {
   "cell_type": "markdown",
   "metadata": {},
   "source": [
    "- Setelah itu saya menampilkan jumlah nilai null dalam setiap kolom DataFrame dengan menggunakan `.isnull().sum()`."
   ]
  },
  {
   "cell_type": "code",
   "execution_count": 124,
   "metadata": {},
   "outputs": [
    {
     "data": {
      "text/plain": [
       "Nama_Produk           0\n",
       "Harga_Produk          0\n",
       "Penjual              17\n",
       "Kota_Toko            17\n",
       "Banyaknya_Terjual     0\n",
       "Rating_Produk        10\n",
       "dtype: int64"
      ]
     },
     "execution_count": 124,
     "metadata": {},
     "output_type": "execute_result"
    }
   ],
   "source": [
    "# Mengecek missing value\n",
    "df.isnull().sum()"
   ]
  },
  {
   "cell_type": "markdown",
   "metadata": {},
   "source": [
    "**Insight:**\n",
    "\n",
    "- Pemahaman tentang distribusi variabel-variabel dalam dataset.\n",
    "- Melihat adanya missing value dalam kolom DataFrame."
   ]
  },
  {
   "cell_type": "markdown",
   "metadata": {},
   "source": [
    "### 2. Data cleaning"
   ]
  },
  {
   "cell_type": "code",
   "execution_count": 125,
   "metadata": {},
   "outputs": [
    {
     "data": {
      "text/plain": [
       "array(['Rp11.880', 'Rp24.200', 'Rp44.340', 'Rp15.750', 'Rp24.000',\n",
       "       'Rp26.600', 'Rp7.138', 'Rp13.900', 'Rp23.750', 'Rp4.450',\n",
       "       'Rp3.500', 'Rp13.000', 'Rp10.000', 'Rp9.900', 'Rp25.000',\n",
       "       'Rp9.999', 'Rp16.000', 'Rp13.999', 'Rp39.500', 'Rp20.000',\n",
       "       'Rp15.000', 'Rp11.500', 'Rp5.999', 'Rp34.980', 'Rp28.500',\n",
       "       'Rp9.000', 'Rp14.000', 'Rp22.000', 'Rp3.800', 'Rp55.000',\n",
       "       'Rp10.600', 'Rp17.500', 'Rp22.688', 'Rp18.900', 'Rp24.225',\n",
       "       'Rp5.500', 'Rp6.999', 'Rp9.916', 'Rp12.900', 'Rp20.482',\n",
       "       'Rp35.625', 'Rp12.500', 'Rp32.000', 'Rp4.951', 'Rp28.000',\n",
       "       'Rp4.500', 'Rp5.799', 'Rp7.500', 'Rp10.200', 'Rp26.040',\n",
       "       'Rp16.500', 'Rp2.600', 'Rp2.500', 'Rp18.000', 'Rp35.999',\n",
       "       'Rp26.000', 'Rp19.399', 'Rp39.900', 'Rp29.000', 'Rp64.000',\n",
       "       'Rp49.680', 'Rp40.999', 'Rp25.500', 'Rp8.500', 'Rp12.999',\n",
       "       'Rp18.500', 'Rp25.200', 'Rp38.000', 'Rp7.599', 'Rp3.000',\n",
       "       'Rp36.900', 'Rp6.000', 'Rp9.950', 'Rp28.210', 'Rp9.800',\n",
       "       'Rp11.900', 'Rp6.500', 'Rp12.000', 'Rp12.250', 'Rp47.260'],\n",
       "      dtype=object)"
      ]
     },
     "execution_count": 125,
     "metadata": {},
     "output_type": "execute_result"
    }
   ],
   "source": [
    "# Mengecek unique value\n",
    "df.Harga_Produk.unique()"
   ]
  },
  {
   "cell_type": "code",
   "execution_count": 128,
   "metadata": {},
   "outputs": [],
   "source": [
    "# Mengganti karakter yang tidak diperlukan\n",
    "df['Harga_Produk'] = df['Harga_Produk'].str.replace('Rp', '').str.replace('.', '')"
   ]
  },
  {
   "cell_type": "code",
   "execution_count": 55,
   "metadata": {},
   "outputs": [
    {
     "data": {
      "text/plain": [
       "array(['4 rb+ terjual', '250+ terjual', '100+ terjual', '10rb+ terjual',\n",
       "       '60+ terjual', '7rb+ terjual', '1rb+ terjual', '500+ terjual',\n",
       "       '3rb+ terjual', '70+ terjual', '50+ terjual', '30+ terjual',\n",
       "       '40+ terjual', '80+ terjual', '21 terjual', '9 terjual',\n",
       "       '24 terjual', '28 terjual', '2 terjual', '5 terjual',\n",
       "       '90+ terjual', '8 terjual', '6 terjual', '10 terjual',\n",
       "       '3 rb+ terjual', '2 rb+ terjual', '4rb+ terjual', '750+ terjual',\n",
       "       '1 terjual', '7 terjual', '2rb+ terjual', '26 terjual',\n",
       "       '11 terjual', '3 terjual'], dtype=object)"
      ]
     },
     "execution_count": 55,
     "metadata": {},
     "output_type": "execute_result"
    }
   ],
   "source": [
    "# Mengecek unique value\n",
    "df.Banyaknya_Terjual.unique()"
   ]
  },
  {
   "cell_type": "code",
   "execution_count": 134,
   "metadata": {},
   "outputs": [],
   "source": [
    "# Mengganti karakter yang tidak diperlukan\n",
    "df['Banyaknya_Terjual'] = df['Banyaknya_Terjual'].str.replace('terjual', '').str.replace(' ', '').str.replace('\\+', '').str.replace('+', '').str.replace('rb', '000')\n",
    "df['Banyaknya_Terjual'].fillna(0, inplace=True)"
   ]
  },
  {
   "cell_type": "code",
   "execution_count": 135,
   "metadata": {},
   "outputs": [],
   "source": [
    "# Mengganti nilai NaN di kolom Rating_Produk dengan 0\n",
    "df['Rating_Produk'].fillna(0, inplace=True)"
   ]
  },
  {
   "cell_type": "code",
   "execution_count": 137,
   "metadata": {},
   "outputs": [],
   "source": [
    "# Menyesuaikan tipe data kolom\n",
    "df['Harga_Produk'] = df['Harga_Produk'].astype(int)\n",
    "df['Banyaknya_Terjual'] = df['Banyaknya_Terjual'].astype(int)\n",
    "df['Rating_Produk'] = df['Rating_Produk'].astype(float)"
   ]
  },
  {
   "cell_type": "code",
   "execution_count": 138,
   "metadata": {},
   "outputs": [
    {
     "name": "stdout",
     "output_type": "stream",
     "text": [
      "<class 'pandas.core.frame.DataFrame'>\n",
      "RangeIndex: 367 entries, 0 to 366\n",
      "Data columns (total 6 columns):\n",
      " #   Column             Non-Null Count  Dtype  \n",
      "---  ------             --------------  -----  \n",
      " 0   Nama_Produk        367 non-null    object \n",
      " 1   Harga_Produk       367 non-null    int32  \n",
      " 2   Penjual            350 non-null    object \n",
      " 3   Kota_Toko          350 non-null    object \n",
      " 4   Banyaknya_Terjual  367 non-null    int32  \n",
      " 5   Rating_Produk      367 non-null    float64\n",
      "dtypes: float64(1), int32(2), object(3)\n",
      "memory usage: 14.5+ KB\n"
     ]
    }
   ],
   "source": [
    "# Melihat tipe data apakah sudah sesuai atau belum\n",
    "df.info()"
   ]
  },
  {
   "cell_type": "code",
   "execution_count": 139,
   "metadata": {},
   "outputs": [],
   "source": [
    "\n",
    "# Menyimpan file yang udah di cleaning ke dalam format CSV\n",
    "df.to_csv('P0G3_Alfarabi.csv',index=False)"
   ]
  },
  {
   "cell_type": "markdown",
   "metadata": {},
   "source": [
    "**Insight:**\n",
    "\n",
    "- Mengidentifikasi kolom atau variabel yang memiliki nilai kosong atau hilang.\n",
    "- Menampilkan unique value\n",
    "- Melakukan normalisasi data\n",
    "- Memperbaiki Kesalahan Tipe Data"
   ]
  },
  {
   "cell_type": "markdown",
   "metadata": {},
   "source": [
    "## C. Business Understanding/Problem Statement"
   ]
  },
  {
   "cell_type": "markdown",
   "metadata": {},
   "source": [
    "### SMART\n",
    "\n",
    "##### **Specific**: Meningkatkan penjualan seblak melalui platform e-commerce dengan fokus pada peningkatan visibilitas produk.\n",
    "\n",
    "##### **Measurable**: Menetapkan target peningkatan penjualan seblak sebesar 20% dalam enam bulan pertama setelah implementasi rencana.\n",
    "\n",
    "##### **Achievable**: Memastikan ketersediaan stok yang cukup untuk memenuhi permintaan yang diperkirakan meningkat.\n",
    "\n",
    "##### **Relevant**: Memperluas jangkauan pasar melalui platform e-commerce untuk mencapai pelanggan potensial yang lebih luas, termasuk di daerah-daerah di luar kota tempat penjualan fisik berlokasi.\n",
    "\n",
    "##### **Time-Bound**: Memantau dan mengevaluasi kinerja penjualan setiap bulan untuk memastikan bahwa target peningkatan 20% tercapai dalam enam bulan."
   ]
  },
  {
   "cell_type": "markdown",
   "metadata": {},
   "source": [
    "## D. Analysis"
   ]
  },
  {
   "cell_type": "code",
   "execution_count": 140,
   "metadata": {},
   "outputs": [],
   "source": [
    "import csv"
   ]
  },
  {
   "cell_type": "code",
   "execution_count": 3,
   "metadata": {},
   "outputs": [
    {
     "data": {
      "text/html": [
       "<div>\n",
       "<style scoped>\n",
       "    .dataframe tbody tr th:only-of-type {\n",
       "        vertical-align: middle;\n",
       "    }\n",
       "\n",
       "    .dataframe tbody tr th {\n",
       "        vertical-align: top;\n",
       "    }\n",
       "\n",
       "    .dataframe thead th {\n",
       "        text-align: right;\n",
       "    }\n",
       "</style>\n",
       "<table border=\"1\" class=\"dataframe\">\n",
       "  <thead>\n",
       "    <tr style=\"text-align: right;\">\n",
       "      <th></th>\n",
       "      <th>Nama_Produk</th>\n",
       "      <th>Harga_Produk</th>\n",
       "      <th>Penjual</th>\n",
       "      <th>Kota_Toko</th>\n",
       "      <th>Banyaknya_Terjual</th>\n",
       "      <th>Rating_Produk</th>\n",
       "    </tr>\n",
       "  </thead>\n",
       "  <tbody>\n",
       "    <tr>\n",
       "      <th>0</th>\n",
       "      <td>Kylafood Seblak karuhun</td>\n",
       "      <td>11880</td>\n",
       "      <td>NaN</td>\n",
       "      <td>NaN</td>\n",
       "      <td>4000</td>\n",
       "      <td>4.8</td>\n",
       "    </tr>\n",
       "    <tr>\n",
       "      <th>1</th>\n",
       "      <td>Kylafood Seblak Mie Baso Sapi Play</td>\n",
       "      <td>24200</td>\n",
       "      <td>NaN</td>\n",
       "      <td>NaN</td>\n",
       "      <td>250</td>\n",
       "      <td>4.9</td>\n",
       "    </tr>\n",
       "    <tr>\n",
       "      <th>2</th>\n",
       "      <td>Kylafood Mix Fav Selebgram Seblak Original &amp; B...</td>\n",
       "      <td>44340</td>\n",
       "      <td>NaN</td>\n",
       "      <td>NaN</td>\n",
       "      <td>100</td>\n",
       "      <td>4.8</td>\n",
       "    </tr>\n",
       "    <tr>\n",
       "      <th>3</th>\n",
       "      <td>Kylafood Seblak Original</td>\n",
       "      <td>15750</td>\n",
       "      <td>kylafood</td>\n",
       "      <td>Bandung</td>\n",
       "      <td>10000</td>\n",
       "      <td>4.9</td>\n",
       "    </tr>\n",
       "    <tr>\n",
       "      <th>4</th>\n",
       "      <td>Geli Food Seblak Ceker Tanpa Tulang Super Peda...</td>\n",
       "      <td>24000</td>\n",
       "      <td>Lidigeli</td>\n",
       "      <td>Kab. Garut</td>\n",
       "      <td>100</td>\n",
       "      <td>4.8</td>\n",
       "    </tr>\n",
       "    <tr>\n",
       "      <th>...</th>\n",
       "      <td>...</td>\n",
       "      <td>...</td>\n",
       "      <td>...</td>\n",
       "      <td>...</td>\n",
       "      <td>...</td>\n",
       "      <td>...</td>\n",
       "    </tr>\n",
       "    <tr>\n",
       "      <th>362</th>\n",
       "      <td>[250 gr] Kerupuk Seblak Pedas</td>\n",
       "      <td>11500</td>\n",
       "      <td>CamilanJati</td>\n",
       "      <td>Kab. Sidoarjo</td>\n",
       "      <td>50</td>\n",
       "      <td>5.0</td>\n",
       "    </tr>\n",
       "    <tr>\n",
       "      <th>363</th>\n",
       "      <td>Gelifood Seblak Instan Kerupuk Mawar Bumbu Ken...</td>\n",
       "      <td>15000</td>\n",
       "      <td>Lidigeli</td>\n",
       "      <td>Kab. Garut</td>\n",
       "      <td>250</td>\n",
       "      <td>4.8</td>\n",
       "    </tr>\n",
       "    <tr>\n",
       "      <th>364</th>\n",
       "      <td>Geli Food Seblak Ceker Tanpa Tulang Super Peda...</td>\n",
       "      <td>24000</td>\n",
       "      <td>Lidigeli</td>\n",
       "      <td>Kab. Garut</td>\n",
       "      <td>100</td>\n",
       "      <td>4.8</td>\n",
       "    </tr>\n",
       "    <tr>\n",
       "      <th>365</th>\n",
       "      <td>Seblak Instan Komplit Pedas Gurih Nikmat</td>\n",
       "      <td>5999</td>\n",
       "      <td>Baso Aci Ayang</td>\n",
       "      <td>Kab. Garut</td>\n",
       "      <td>3000</td>\n",
       "      <td>4.9</td>\n",
       "    </tr>\n",
       "    <tr>\n",
       "      <th>366</th>\n",
       "      <td>Seblak Instan Pedas Home Made</td>\n",
       "      <td>3500</td>\n",
       "      <td>the Dhecip</td>\n",
       "      <td>Tangerang Selatan</td>\n",
       "      <td>3000</td>\n",
       "      <td>4.9</td>\n",
       "    </tr>\n",
       "  </tbody>\n",
       "</table>\n",
       "<p>367 rows × 6 columns</p>\n",
       "</div>"
      ],
      "text/plain": [
       "                                           Nama_Produk  Harga_Produk  \\\n",
       "0                              Kylafood Seblak karuhun         11880   \n",
       "1                   Kylafood Seblak Mie Baso Sapi Play         24200   \n",
       "2    Kylafood Mix Fav Selebgram Seblak Original & B...         44340   \n",
       "3                             Kylafood Seblak Original         15750   \n",
       "4    Geli Food Seblak Ceker Tanpa Tulang Super Peda...         24000   \n",
       "..                                                 ...           ...   \n",
       "362                      [250 gr] Kerupuk Seblak Pedas         11500   \n",
       "363  Gelifood Seblak Instan Kerupuk Mawar Bumbu Ken...         15000   \n",
       "364  Geli Food Seblak Ceker Tanpa Tulang Super Peda...         24000   \n",
       "365           Seblak Instan Komplit Pedas Gurih Nikmat          5999   \n",
       "366                      Seblak Instan Pedas Home Made          3500   \n",
       "\n",
       "            Penjual          Kota_Toko  Banyaknya_Terjual  Rating_Produk  \n",
       "0               NaN                NaN               4000            4.8  \n",
       "1               NaN                NaN                250            4.9  \n",
       "2               NaN                NaN                100            4.8  \n",
       "3          kylafood            Bandung              10000            4.9  \n",
       "4          Lidigeli         Kab. Garut                100            4.8  \n",
       "..              ...                ...                ...            ...  \n",
       "362     CamilanJati      Kab. Sidoarjo                 50            5.0  \n",
       "363        Lidigeli         Kab. Garut                250            4.8  \n",
       "364        Lidigeli         Kab. Garut                100            4.8  \n",
       "365  Baso Aci Ayang         Kab. Garut               3000            4.9  \n",
       "366      the Dhecip  Tangerang Selatan               3000            4.9  \n",
       "\n",
       "[367 rows x 6 columns]"
      ]
     },
     "execution_count": 3,
     "metadata": {},
     "output_type": "execute_result"
    }
   ],
   "source": [
    "# menampilkan hasil data yang udah di cleaning\n",
    "df_1 = pd.read_csv('P0G3_Alfarabi.csv')\n",
    "df_1"
   ]
  },
  {
   "cell_type": "code",
   "execution_count": 42,
   "metadata": {},
   "outputs": [
    {
     "data": {
      "text/html": [
       "<div>\n",
       "<style scoped>\n",
       "    .dataframe tbody tr th:only-of-type {\n",
       "        vertical-align: middle;\n",
       "    }\n",
       "\n",
       "    .dataframe tbody tr th {\n",
       "        vertical-align: top;\n",
       "    }\n",
       "\n",
       "    .dataframe thead th {\n",
       "        text-align: right;\n",
       "    }\n",
       "</style>\n",
       "<table border=\"1\" class=\"dataframe\">\n",
       "  <thead>\n",
       "    <tr style=\"text-align: right;\">\n",
       "      <th></th>\n",
       "      <th>Harga_Produk</th>\n",
       "      <th>Banyaknya_Terjual</th>\n",
       "      <th>Rating_Produk</th>\n",
       "    </tr>\n",
       "  </thead>\n",
       "  <tbody>\n",
       "    <tr>\n",
       "      <th>count</th>\n",
       "      <td>367.000000</td>\n",
       "      <td>367.000000</td>\n",
       "      <td>367.000000</td>\n",
       "    </tr>\n",
       "    <tr>\n",
       "      <th>mean</th>\n",
       "      <td>16647.743869</td>\n",
       "      <td>1244.348774</td>\n",
       "      <td>4.761308</td>\n",
       "    </tr>\n",
       "    <tr>\n",
       "      <th>std</th>\n",
       "      <td>10463.981137</td>\n",
       "      <td>2548.168131</td>\n",
       "      <td>0.804276</td>\n",
       "    </tr>\n",
       "    <tr>\n",
       "      <th>min</th>\n",
       "      <td>2500.000000</td>\n",
       "      <td>1.000000</td>\n",
       "      <td>0.000000</td>\n",
       "    </tr>\n",
       "    <tr>\n",
       "      <th>25%</th>\n",
       "      <td>9900.000000</td>\n",
       "      <td>50.000000</td>\n",
       "      <td>4.800000</td>\n",
       "    </tr>\n",
       "    <tr>\n",
       "      <th>50%</th>\n",
       "      <td>15000.000000</td>\n",
       "      <td>100.000000</td>\n",
       "      <td>4.900000</td>\n",
       "    </tr>\n",
       "    <tr>\n",
       "      <th>75%</th>\n",
       "      <td>24000.000000</td>\n",
       "      <td>500.000000</td>\n",
       "      <td>5.000000</td>\n",
       "    </tr>\n",
       "    <tr>\n",
       "      <th>max</th>\n",
       "      <td>64000.000000</td>\n",
       "      <td>10000.000000</td>\n",
       "      <td>5.000000</td>\n",
       "    </tr>\n",
       "  </tbody>\n",
       "</table>\n",
       "</div>"
      ],
      "text/plain": [
       "       Harga_Produk  Banyaknya_Terjual  Rating_Produk\n",
       "count    367.000000         367.000000     367.000000\n",
       "mean   16647.743869        1244.348774       4.761308\n",
       "std    10463.981137        2548.168131       0.804276\n",
       "min     2500.000000           1.000000       0.000000\n",
       "25%     9900.000000          50.000000       4.800000\n",
       "50%    15000.000000         100.000000       4.900000\n",
       "75%    24000.000000         500.000000       5.000000\n",
       "max    64000.000000       10000.000000       5.000000"
      ]
     },
     "execution_count": 42,
     "metadata": {},
     "output_type": "execute_result"
    }
   ],
   "source": [
    "df_1.describe()"
   ]
  },
  {
   "cell_type": "markdown",
   "metadata": {},
   "source": [
    "### 1. Mencari rata-rata, median, standar deviasi, skewness, dan kurtosis."
   ]
  },
  {
   "cell_type": "markdown",
   "metadata": {},
   "source": [
    "- Saya mencari rata-rata dengan menggunakan fungsi `.mean()`."
   ]
  },
  {
   "cell_type": "code",
   "execution_count": 8,
   "metadata": {},
   "outputs": [
    {
     "name": "stdout",
     "output_type": "stream",
     "text": [
      "Nilai Rata-Rata Harga Produk adalah : 16647.743869209808\n",
      "\n",
      "Nilai Rata-Rata Banyaknya Terjual adalah : 16647.743869209808\n",
      "\n",
      "Nilai Rata-Rata Rating Produk adalah : 16647.743869209808\n",
      "\n"
     ]
    }
   ],
   "source": [
    "# Mencari nilai mean\n",
    "print(f'Nilai Rata-Rata Harga Produk adalah : {df_1.Harga_Produk.mean()}\\n')\n",
    "print(f'Nilai Rata-Rata Banyaknya Terjual adalah : {df_1.Harga_Produk.mean()}\\n')\n",
    "print(f'Nilai Rata-Rata Rating Produk adalah : {df_1.Harga_Produk.mean()}\\n')"
   ]
  },
  {
   "cell_type": "markdown",
   "metadata": {},
   "source": [
    "- Lalu saya mencari nilai median dengan menggunakan fungsi `.median()`."
   ]
  },
  {
   "cell_type": "code",
   "execution_count": 15,
   "metadata": {},
   "outputs": [
    {
     "name": "stdout",
     "output_type": "stream",
     "text": [
      "Nilai Median Harga Produk adalah : 15000.0\n",
      "\n",
      "Nilai Median Banyaknya Terjual adalah : 15000.0\n",
      "\n",
      "Nilai Median Rating Produk adalah : 15000.0\n",
      "\n"
     ]
    }
   ],
   "source": [
    "# Mencari nilai median\n",
    "print(f'Nilai Median Harga Produk adalah : {df_1.Harga_Produk.median()}\\n')\n",
    "print(f'Nilai Median Banyaknya Terjual adalah : {df_1.Harga_Produk.median()}\\n')\n",
    "print(f'Nilai Median Rating Produk adalah : {df_1.Harga_Produk.median()}\\n')"
   ]
  },
  {
   "cell_type": "markdown",
   "metadata": {},
   "source": [
    "- Selanjutnya saya mencari nilai standar deviasi menggunakan fungsi `.std()`."
   ]
  },
  {
   "cell_type": "code",
   "execution_count": 14,
   "metadata": {},
   "outputs": [
    {
     "name": "stdout",
     "output_type": "stream",
     "text": [
      "Nilai Standar Deviasi Harga Produk adalah : 10463.981136704117\n",
      "\n",
      "Nilai Standar Deviasi Banyaknya Terjual adalah : 10463.981136704117\n",
      "\n",
      "Nilai Standar Deviasi Produk adalah : 10463.981136704117\n",
      "\n"
     ]
    }
   ],
   "source": [
    "# Mencari nilai standar deviasi\n",
    "print(f'Nilai Standar Deviasi Harga Produk adalah : {df_1.Harga_Produk.std()}\\n')\n",
    "print(f'Nilai Standar Deviasi Banyaknya Terjual adalah : {df_1.Harga_Produk.std()}\\n')\n",
    "print(f'Nilai Standar Deviasi Produk adalah : {df_1.Harga_Produk.std()}\\n')"
   ]
  },
  {
   "cell_type": "markdown",
   "metadata": {},
   "source": [
    "- Setelah itu saya mencari nilai skew dengan mengunakan fungsi `.skew()`."
   ]
  },
  {
   "cell_type": "code",
   "execution_count": 11,
   "metadata": {},
   "outputs": [
    {
     "name": "stdout",
     "output_type": "stream",
     "text": [
      "Nilai Skewness Harga Produk adalah : 0.9599332642271041\n",
      "\n",
      "Nilai Skewness Banyaknya Terjual adalah : 0.9599332642271041\n",
      "\n",
      "Nilai Skewness Rating Produk adalah : 0.9599332642271041\n",
      "\n"
     ]
    }
   ],
   "source": [
    "# Mencari nilai skewness\n",
    "print(f'Nilai Skewness Harga Produk adalah : {df_1.Harga_Produk.skew()}\\n')\n",
    "print(f'Nilai Skewness Banyaknya Terjual adalah : {df_1.Harga_Produk.skew()}\\n')\n",
    "print(f'Nilai Skewness Rating Produk adalah : {df_1.Harga_Produk.skew()}\\n')"
   ]
  },
  {
   "cell_type": "markdown",
   "metadata": {},
   "source": [
    "- Kemudian saya mencari nilai kurtosis menggunakan fungsi `.kurtosis()`."
   ]
  },
  {
   "cell_type": "code",
   "execution_count": 12,
   "metadata": {},
   "outputs": [
    {
     "name": "stdout",
     "output_type": "stream",
     "text": [
      "Nilai Kurtosis Harga Produk adalah : 1.3596747144281944\n",
      "\n",
      "Nilai Kurtosis Banyaknya Terjual adalah : 1.3596747144281944\n",
      "\n",
      "Nilai Kurtosis Rating Produk adalah : 1.3596747144281944\n",
      "\n"
     ]
    }
   ],
   "source": [
    "# Mencari nilai kurtosis\n",
    "print(f'Nilai Kurtosis Harga Produk adalah : {df_1.Harga_Produk.kurtosis()}\\n')\n",
    "print(f'Nilai Kurtosis Banyaknya Terjual adalah : {df_1.Harga_Produk.kurtosis()}\\n')\n",
    "print(f'Nilai Kurtosis Rating Produk adalah : {df_1.Harga_Produk.kurtosis()}\\n')"
   ]
  },
  {
   "cell_type": "code",
   "execution_count": 13,
   "metadata": {},
   "outputs": [
    {
     "data": {
      "text/html": [
       "<div>\n",
       "<style scoped>\n",
       "    .dataframe tbody tr th:only-of-type {\n",
       "        vertical-align: middle;\n",
       "    }\n",
       "\n",
       "    .dataframe tbody tr th {\n",
       "        vertical-align: top;\n",
       "    }\n",
       "\n",
       "    .dataframe thead th {\n",
       "        text-align: right;\n",
       "    }\n",
       "</style>\n",
       "<table border=\"1\" class=\"dataframe\">\n",
       "  <thead>\n",
       "    <tr style=\"text-align: right;\">\n",
       "      <th></th>\n",
       "      <th>Harga_Produk</th>\n",
       "      <th>Banyaknya_Terjual</th>\n",
       "      <th>Rating_Produk</th>\n",
       "    </tr>\n",
       "  </thead>\n",
       "  <tbody>\n",
       "    <tr>\n",
       "      <th>count</th>\n",
       "      <td>367.000000</td>\n",
       "      <td>367.000000</td>\n",
       "      <td>367.000000</td>\n",
       "    </tr>\n",
       "    <tr>\n",
       "      <th>mean</th>\n",
       "      <td>16647.743869</td>\n",
       "      <td>1244.348774</td>\n",
       "      <td>4.761308</td>\n",
       "    </tr>\n",
       "    <tr>\n",
       "      <th>std</th>\n",
       "      <td>10463.981137</td>\n",
       "      <td>2548.168131</td>\n",
       "      <td>0.804276</td>\n",
       "    </tr>\n",
       "    <tr>\n",
       "      <th>min</th>\n",
       "      <td>2500.000000</td>\n",
       "      <td>1.000000</td>\n",
       "      <td>0.000000</td>\n",
       "    </tr>\n",
       "    <tr>\n",
       "      <th>25%</th>\n",
       "      <td>9900.000000</td>\n",
       "      <td>50.000000</td>\n",
       "      <td>4.800000</td>\n",
       "    </tr>\n",
       "    <tr>\n",
       "      <th>50%</th>\n",
       "      <td>15000.000000</td>\n",
       "      <td>100.000000</td>\n",
       "      <td>4.900000</td>\n",
       "    </tr>\n",
       "    <tr>\n",
       "      <th>75%</th>\n",
       "      <td>24000.000000</td>\n",
       "      <td>500.000000</td>\n",
       "      <td>5.000000</td>\n",
       "    </tr>\n",
       "    <tr>\n",
       "      <th>max</th>\n",
       "      <td>64000.000000</td>\n",
       "      <td>10000.000000</td>\n",
       "      <td>5.000000</td>\n",
       "    </tr>\n",
       "  </tbody>\n",
       "</table>\n",
       "</div>"
      ],
      "text/plain": [
       "       Harga_Produk  Banyaknya_Terjual  Rating_Produk\n",
       "count    367.000000         367.000000     367.000000\n",
       "mean   16647.743869        1244.348774       4.761308\n",
       "std    10463.981137        2548.168131       0.804276\n",
       "min     2500.000000           1.000000       0.000000\n",
       "25%     9900.000000          50.000000       4.800000\n",
       "50%    15000.000000         100.000000       4.900000\n",
       "75%    24000.000000         500.000000       5.000000\n",
       "max    64000.000000       10000.000000       5.000000"
      ]
     },
     "execution_count": 13,
     "metadata": {},
     "output_type": "execute_result"
    }
   ],
   "source": [
    "df_1.describe()"
   ]
  },
  {
   "cell_type": "markdown",
   "metadata": {},
   "source": [
    "Setelah itu, saya akan melakukan pengelompokan barang yang telah terjual berdasarkan lokasi kota."
   ]
  },
  {
   "cell_type": "code",
   "execution_count": 56,
   "metadata": {},
   "outputs": [
    {
     "data": {
      "text/html": [
       "<div>\n",
       "<style scoped>\n",
       "    .dataframe tbody tr th:only-of-type {\n",
       "        vertical-align: middle;\n",
       "    }\n",
       "\n",
       "    .dataframe tbody tr th {\n",
       "        vertical-align: top;\n",
       "    }\n",
       "\n",
       "    .dataframe thead th {\n",
       "        text-align: right;\n",
       "    }\n",
       "</style>\n",
       "<table border=\"1\" class=\"dataframe\">\n",
       "  <thead>\n",
       "    <tr style=\"text-align: right;\">\n",
       "      <th></th>\n",
       "      <th>Banyaknya_Terjual</th>\n",
       "    </tr>\n",
       "    <tr>\n",
       "      <th>Kota_Toko</th>\n",
       "      <th></th>\n",
       "    </tr>\n",
       "  </thead>\n",
       "  <tbody>\n",
       "    <tr>\n",
       "      <th>Bandung</th>\n",
       "      <td>20345</td>\n",
       "    </tr>\n",
       "    <tr>\n",
       "      <th>Banjarbaru</th>\n",
       "      <td>11</td>\n",
       "    </tr>\n",
       "    <tr>\n",
       "      <th>Bekasi</th>\n",
       "      <td>63</td>\n",
       "    </tr>\n",
       "    <tr>\n",
       "      <th>Cimahi</th>\n",
       "      <td>21000</td>\n",
       "    </tr>\n",
       "    <tr>\n",
       "      <th>Depok</th>\n",
       "      <td>17640</td>\n",
       "    </tr>\n",
       "  </tbody>\n",
       "</table>\n",
       "</div>"
      ],
      "text/plain": [
       "            Banyaknya_Terjual\n",
       "Kota_Toko                    \n",
       "Bandung                 20345\n",
       "Banjarbaru                 11\n",
       "Bekasi                     63\n",
       "Cimahi                  21000\n",
       "Depok                   17640"
      ]
     },
     "execution_count": 56,
     "metadata": {},
     "output_type": "execute_result"
    }
   ],
   "source": [
    "barang_terjual = df_1[['Kota_Toko','Banyaknya_Terjual']].groupby('Kota_Toko').sum()\n",
    "barang_terjual.head()"
   ]
  },
  {
   "cell_type": "markdown",
   "metadata": {},
   "source": [
    "**Insight:**\n",
    "\n",
    "dari data diatas kita dapat melihat:\n",
    "- Pusat distribusi data (rata-rata dan median).\n",
    "- Variabilitas atau dispersi data (standar deviasi).\n",
    "- Asimetri distribusi data (skewness).\n",
    "- Keruncingan distribusi data (kurtosis)."
   ]
  },
  {
   "cell_type": "markdown",
   "metadata": {},
   "source": [
    "### 2. Confidence Interval"
   ]
  },
  {
   "cell_type": "markdown",
   "metadata": {},
   "source": [
    "- Lalu saya mencari nilai lower value dan upper value."
   ]
  },
  {
   "cell_type": "code",
   "execution_count": 40,
   "metadata": {},
   "outputs": [
    {
     "name": "stdout",
     "output_type": "stream",
     "text": [
      "Lower Value: -809.421371249191\n",
      "Upper Value: 37015.75470458253\n"
     ]
    }
   ],
   "source": [
    "std = barang_terjual['Banyaknya_Terjual'].std()\n",
    "N = len(barang_terjual)\n",
    "low, up = stats.norm.interval(0.95,loc=barang_terjual['Banyaknya_Terjual'].mean(),scale=std/np.sqrt(N))\n",
    "print('Lower Value:',low)\n",
    "print('Upper Value:',up)"
   ]
  },
  {
   "cell_type": "markdown",
   "metadata": {},
   "source": [
    "### 3. Hypotesist Testing"
   ]
  },
  {
   "cell_type": "code",
   "execution_count": 51,
   "metadata": {},
   "outputs": [
    {
     "data": {
      "text/plain": [
       "array([nan, 'Bandung', 'Kab. Garut', 'Jakarta Selatan', 'Cimahi',\n",
       "       'Kab. Tangerang', 'Depok', 'Jakarta Timur', 'Tangerang Selatan',\n",
       "       'Surabaya', 'Jakarta Barat', 'Kab. Bogor', 'Surakarta',\n",
       "       'Kab. Bandung', 'Kab. Sidoarjo', 'Bekasi', 'Semarang', 'Tangerang',\n",
       "       'Kab. Majalengka', 'Jakarta Pusat', 'Tasikmalaya', 'Kab. Jombang',\n",
       "       'Banjarbaru', 'Serang', 'Kab. Malang'], dtype=object)"
      ]
     },
     "execution_count": 51,
     "metadata": {},
     "output_type": "execute_result"
    }
   ],
   "source": [
    "# Untuk melihat unique value dari Kota Toko\n",
    "df_1.Kota_Toko.unique()"
   ]
  },
  {
   "cell_type": "markdown",
   "metadata": {},
   "source": [
    "- Setelah itu saya akan melakukan pengelompokan barang yang telah terjual berdasarkan lokasi kota."
   ]
  },
  {
   "cell_type": "code",
   "execution_count": 52,
   "metadata": {},
   "outputs": [
    {
     "data": {
      "text/html": [
       "<div>\n",
       "<style scoped>\n",
       "    .dataframe tbody tr th:only-of-type {\n",
       "        vertical-align: middle;\n",
       "    }\n",
       "\n",
       "    .dataframe tbody tr th {\n",
       "        vertical-align: top;\n",
       "    }\n",
       "\n",
       "    .dataframe thead th {\n",
       "        text-align: right;\n",
       "    }\n",
       "</style>\n",
       "<table border=\"1\" class=\"dataframe\">\n",
       "  <thead>\n",
       "    <tr style=\"text-align: right;\">\n",
       "      <th></th>\n",
       "      <th>Nama_Produk</th>\n",
       "      <th>Harga_Produk</th>\n",
       "      <th>Penjual</th>\n",
       "      <th>Kota_Toko</th>\n",
       "      <th>Banyaknya_Terjual</th>\n",
       "      <th>Rating_Produk</th>\n",
       "    </tr>\n",
       "  </thead>\n",
       "  <tbody>\n",
       "    <tr>\n",
       "      <th>5</th>\n",
       "      <td>Seblak Rafael/Seblak Coet Instan Halal</td>\n",
       "      <td>26600</td>\n",
       "      <td>Foodstocks</td>\n",
       "      <td>Jakarta Selatan</td>\n",
       "      <td>60</td>\n",
       "      <td>5.0</td>\n",
       "    </tr>\n",
       "    <tr>\n",
       "      <th>7</th>\n",
       "      <td>SEBLAK INSTAN MOMMY</td>\n",
       "      <td>13900</td>\n",
       "      <td>Rav Jaya Display</td>\n",
       "      <td>Kab. Tangerang</td>\n",
       "      <td>1000</td>\n",
       "      <td>4.8</td>\n",
       "    </tr>\n",
       "    <tr>\n",
       "      <th>9</th>\n",
       "      <td>SEBLAK INSTANT TERMURAH</td>\n",
       "      <td>4450</td>\n",
       "      <td>Pusat Cuankie &amp; Cemilan Frozen</td>\n",
       "      <td>Jakarta Timur</td>\n",
       "      <td>10000</td>\n",
       "      <td>4.8</td>\n",
       "    </tr>\n",
       "    <tr>\n",
       "      <th>10</th>\n",
       "      <td>Seblak Instan Pedas Home Made</td>\n",
       "      <td>3500</td>\n",
       "      <td>the Dhecip</td>\n",
       "      <td>Tangerang Selatan</td>\n",
       "      <td>3000</td>\n",
       "      <td>4.9</td>\n",
       "    </tr>\n",
       "    <tr>\n",
       "      <th>12</th>\n",
       "      <td>Kylafood Seblak Rempah Autentik</td>\n",
       "      <td>10000</td>\n",
       "      <td>Kylafood Jakarta</td>\n",
       "      <td>Jakarta Selatan</td>\n",
       "      <td>100</td>\n",
       "      <td>5.0</td>\n",
       "    </tr>\n",
       "    <tr>\n",
       "      <th>...</th>\n",
       "      <td>...</td>\n",
       "      <td>...</td>\n",
       "      <td>...</td>\n",
       "      <td>...</td>\n",
       "      <td>...</td>\n",
       "      <td>...</td>\n",
       "    </tr>\n",
       "    <tr>\n",
       "      <th>355</th>\n",
       "      <td>Kerupuk SEBLAK MAWAR Rafael - Cikruh Daun Jeruk</td>\n",
       "      <td>20000</td>\n",
       "      <td>KRIUK JAYA</td>\n",
       "      <td>Jakarta Barat</td>\n",
       "      <td>40</td>\n",
       "      <td>4.9</td>\n",
       "    </tr>\n",
       "    <tr>\n",
       "      <th>358</th>\n",
       "      <td>Seblak Rafael/Seblak Coet Instan Halal</td>\n",
       "      <td>26600</td>\n",
       "      <td>Foodstocks</td>\n",
       "      <td>Jakarta Selatan</td>\n",
       "      <td>60</td>\n",
       "      <td>5.0</td>\n",
       "    </tr>\n",
       "    <tr>\n",
       "      <th>359</th>\n",
       "      <td>SEBLAK INSTANT TERMURAH</td>\n",
       "      <td>4450</td>\n",
       "      <td>Pusat Cuankie &amp; Cemilan Frozen</td>\n",
       "      <td>Jakarta Timur</td>\n",
       "      <td>10000</td>\n",
       "      <td>4.8</td>\n",
       "    </tr>\n",
       "    <tr>\n",
       "      <th>360</th>\n",
       "      <td>Seblak Instan Pedas Home Made</td>\n",
       "      <td>3500</td>\n",
       "      <td>the Dhecip</td>\n",
       "      <td>Tangerang Selatan</td>\n",
       "      <td>3000</td>\n",
       "      <td>4.9</td>\n",
       "    </tr>\n",
       "    <tr>\n",
       "      <th>366</th>\n",
       "      <td>Seblak Instan Pedas Home Made</td>\n",
       "      <td>3500</td>\n",
       "      <td>the Dhecip</td>\n",
       "      <td>Tangerang Selatan</td>\n",
       "      <td>3000</td>\n",
       "      <td>4.9</td>\n",
       "    </tr>\n",
       "  </tbody>\n",
       "</table>\n",
       "<p>188 rows × 6 columns</p>\n",
       "</div>"
      ],
      "text/plain": [
       "                                         Nama_Produk  Harga_Produk  \\\n",
       "5             Seblak Rafael/Seblak Coet Instan Halal         26600   \n",
       "7                                SEBLAK INSTAN MOMMY         13900   \n",
       "9                            SEBLAK INSTANT TERMURAH          4450   \n",
       "10                     Seblak Instan Pedas Home Made          3500   \n",
       "12                   Kylafood Seblak Rempah Autentik         10000   \n",
       "..                                               ...           ...   \n",
       "355  Kerupuk SEBLAK MAWAR Rafael - Cikruh Daun Jeruk         20000   \n",
       "358           Seblak Rafael/Seblak Coet Instan Halal         26600   \n",
       "359                          SEBLAK INSTANT TERMURAH          4450   \n",
       "360                    Seblak Instan Pedas Home Made          3500   \n",
       "366                    Seblak Instan Pedas Home Made          3500   \n",
       "\n",
       "                            Penjual          Kota_Toko  Banyaknya_Terjual  \\\n",
       "5                        Foodstocks    Jakarta Selatan                 60   \n",
       "7                  Rav Jaya Display     Kab. Tangerang               1000   \n",
       "9    Pusat Cuankie & Cemilan Frozen      Jakarta Timur              10000   \n",
       "10                       the Dhecip  Tangerang Selatan               3000   \n",
       "12                 Kylafood Jakarta    Jakarta Selatan                100   \n",
       "..                              ...                ...                ...   \n",
       "355                      KRIUK JAYA      Jakarta Barat                 40   \n",
       "358                      Foodstocks    Jakarta Selatan                 60   \n",
       "359  Pusat Cuankie & Cemilan Frozen      Jakarta Timur              10000   \n",
       "360                      the Dhecip  Tangerang Selatan               3000   \n",
       "366                      the Dhecip  Tangerang Selatan               3000   \n",
       "\n",
       "     Rating_Produk  \n",
       "5              5.0  \n",
       "7              4.8  \n",
       "9              4.8  \n",
       "10             4.9  \n",
       "12             5.0  \n",
       "..             ...  \n",
       "355            4.9  \n",
       "358            5.0  \n",
       "359            4.8  \n",
       "360            4.9  \n",
       "366            4.9  \n",
       "\n",
       "[188 rows x 6 columns]"
      ]
     },
     "execution_count": 52,
     "metadata": {},
     "output_type": "execute_result"
    }
   ],
   "source": [
    "jabodetabek = df_1[(df_1[\"Kota_Toko\"]==\"Tangerang\") | (df_1[\"Kota_Toko\"]==\"Tangerang Selatan\") | (df_1[\"Kota_Toko\"]==\"Jakarta Barat\") | (df_1[\"Kota_Toko\"]==\"Jakarta Selatan\") | (df_1[\"Kota_Toko\"]==\"Jakarta Barat\") | (df_1[\"Kota_Toko\"]==\"Jakarta Timur\") | (df_1[\"Kota_Toko\"]==\"Jakarta Pusat\") | (df_1[\"Kota_Toko\"]==\"Kab. Tangerang\") | (df_1[\"Kota_Toko\"]==\"Kab. Bogor\") | (df_1[\"Kota_Toko\"]==\"Bekasi\")]\n",
    "\n",
    "jabodetabek"
   ]
  },
  {
   "cell_type": "code",
   "execution_count": 53,
   "metadata": {},
   "outputs": [
    {
     "data": {
      "text/html": [
       "<div>\n",
       "<style scoped>\n",
       "    .dataframe tbody tr th:only-of-type {\n",
       "        vertical-align: middle;\n",
       "    }\n",
       "\n",
       "    .dataframe tbody tr th {\n",
       "        vertical-align: top;\n",
       "    }\n",
       "\n",
       "    .dataframe thead th {\n",
       "        text-align: right;\n",
       "    }\n",
       "</style>\n",
       "<table border=\"1\" class=\"dataframe\">\n",
       "  <thead>\n",
       "    <tr style=\"text-align: right;\">\n",
       "      <th></th>\n",
       "      <th>Nama_Produk</th>\n",
       "      <th>Harga_Produk</th>\n",
       "      <th>Penjual</th>\n",
       "      <th>Kota_Toko</th>\n",
       "      <th>Banyaknya_Terjual</th>\n",
       "      <th>Rating_Produk</th>\n",
       "    </tr>\n",
       "  </thead>\n",
       "  <tbody>\n",
       "    <tr>\n",
       "      <th>0</th>\n",
       "      <td>Kylafood Seblak karuhun</td>\n",
       "      <td>11880</td>\n",
       "      <td>NaN</td>\n",
       "      <td>NaN</td>\n",
       "      <td>4000</td>\n",
       "      <td>4.8</td>\n",
       "    </tr>\n",
       "    <tr>\n",
       "      <th>1</th>\n",
       "      <td>Kylafood Seblak Mie Baso Sapi Play</td>\n",
       "      <td>24200</td>\n",
       "      <td>NaN</td>\n",
       "      <td>NaN</td>\n",
       "      <td>250</td>\n",
       "      <td>4.9</td>\n",
       "    </tr>\n",
       "    <tr>\n",
       "      <th>2</th>\n",
       "      <td>Kylafood Mix Fav Selebgram Seblak Original &amp; B...</td>\n",
       "      <td>44340</td>\n",
       "      <td>NaN</td>\n",
       "      <td>NaN</td>\n",
       "      <td>100</td>\n",
       "      <td>4.8</td>\n",
       "    </tr>\n",
       "    <tr>\n",
       "      <th>3</th>\n",
       "      <td>Kylafood Seblak Original</td>\n",
       "      <td>15750</td>\n",
       "      <td>kylafood</td>\n",
       "      <td>Bandung</td>\n",
       "      <td>10000</td>\n",
       "      <td>4.9</td>\n",
       "    </tr>\n",
       "    <tr>\n",
       "      <th>4</th>\n",
       "      <td>Geli Food Seblak Ceker Tanpa Tulang Super Peda...</td>\n",
       "      <td>24000</td>\n",
       "      <td>Lidigeli</td>\n",
       "      <td>Kab. Garut</td>\n",
       "      <td>100</td>\n",
       "      <td>4.8</td>\n",
       "    </tr>\n",
       "    <tr>\n",
       "      <th>...</th>\n",
       "      <td>...</td>\n",
       "      <td>...</td>\n",
       "      <td>...</td>\n",
       "      <td>...</td>\n",
       "      <td>...</td>\n",
       "      <td>...</td>\n",
       "    </tr>\n",
       "    <tr>\n",
       "      <th>362</th>\n",
       "      <td>[250 gr] Kerupuk Seblak Pedas</td>\n",
       "      <td>11500</td>\n",
       "      <td>CamilanJati</td>\n",
       "      <td>Kab. Sidoarjo</td>\n",
       "      <td>50</td>\n",
       "      <td>5.0</td>\n",
       "    </tr>\n",
       "    <tr>\n",
       "      <th>363</th>\n",
       "      <td>Gelifood Seblak Instan Kerupuk Mawar Bumbu Ken...</td>\n",
       "      <td>15000</td>\n",
       "      <td>Lidigeli</td>\n",
       "      <td>Kab. Garut</td>\n",
       "      <td>250</td>\n",
       "      <td>4.8</td>\n",
       "    </tr>\n",
       "    <tr>\n",
       "      <th>364</th>\n",
       "      <td>Geli Food Seblak Ceker Tanpa Tulang Super Peda...</td>\n",
       "      <td>24000</td>\n",
       "      <td>Lidigeli</td>\n",
       "      <td>Kab. Garut</td>\n",
       "      <td>100</td>\n",
       "      <td>4.8</td>\n",
       "    </tr>\n",
       "    <tr>\n",
       "      <th>365</th>\n",
       "      <td>Seblak Instan Komplit Pedas Gurih Nikmat</td>\n",
       "      <td>5999</td>\n",
       "      <td>Baso Aci Ayang</td>\n",
       "      <td>Kab. Garut</td>\n",
       "      <td>3000</td>\n",
       "      <td>4.9</td>\n",
       "    </tr>\n",
       "    <tr>\n",
       "      <th>366</th>\n",
       "      <td>Seblak Instan Pedas Home Made</td>\n",
       "      <td>3500</td>\n",
       "      <td>the Dhecip</td>\n",
       "      <td>Tangerang Selatan</td>\n",
       "      <td>3000</td>\n",
       "      <td>4.9</td>\n",
       "    </tr>\n",
       "  </tbody>\n",
       "</table>\n",
       "<p>363 rows × 6 columns</p>\n",
       "</div>"
      ],
      "text/plain": [
       "                                           Nama_Produk  Harga_Produk  \\\n",
       "0                              Kylafood Seblak karuhun         11880   \n",
       "1                   Kylafood Seblak Mie Baso Sapi Play         24200   \n",
       "2    Kylafood Mix Fav Selebgram Seblak Original & B...         44340   \n",
       "3                             Kylafood Seblak Original         15750   \n",
       "4    Geli Food Seblak Ceker Tanpa Tulang Super Peda...         24000   \n",
       "..                                                 ...           ...   \n",
       "362                      [250 gr] Kerupuk Seblak Pedas         11500   \n",
       "363  Gelifood Seblak Instan Kerupuk Mawar Bumbu Ken...         15000   \n",
       "364  Geli Food Seblak Ceker Tanpa Tulang Super Peda...         24000   \n",
       "365           Seblak Instan Komplit Pedas Gurih Nikmat          5999   \n",
       "366                      Seblak Instan Pedas Home Made          3500   \n",
       "\n",
       "            Penjual          Kota_Toko  Banyaknya_Terjual  Rating_Produk  \n",
       "0               NaN                NaN               4000            4.8  \n",
       "1               NaN                NaN                250            4.9  \n",
       "2               NaN                NaN                100            4.8  \n",
       "3          kylafood            Bandung              10000            4.9  \n",
       "4          Lidigeli         Kab. Garut                100            4.8  \n",
       "..              ...                ...                ...            ...  \n",
       "362     CamilanJati      Kab. Sidoarjo                 50            5.0  \n",
       "363        Lidigeli         Kab. Garut                250            4.8  \n",
       "364        Lidigeli         Kab. Garut                100            4.8  \n",
       "365  Baso Aci Ayang         Kab. Garut               3000            4.9  \n",
       "366      the Dhecip  Tangerang Selatan               3000            4.9  \n",
       "\n",
       "[363 rows x 6 columns]"
      ]
     },
     "execution_count": 53,
     "metadata": {},
     "output_type": "execute_result"
    }
   ],
   "source": [
    "non_jabodetabek = df_1[~(df_1[\"Kota_Toko\"]==\"Tangerang\") | (df_1[\"Kota_Toko\"]==\"Tangerang Selatan\") | (df_1[\"Kota_Toko\"]==\"Jakarta Barat\") | (df_1[\"Kota_Toko\"]==\"Jakarta Selatan\") | (df_1[\"Kota_Toko\"]==\"Jakarta Barat\") | (df_1[\"Kota_Toko\"]==\"Jakarta Timur\") | (df_1[\"Kota_Toko\"]==\"Jakarta Pusat\") | (df_1[\"Kota_Toko\"]==\"Kab. Tangerang\") | (df_1[\"Kota_Toko\"]==\"Kab. Bogor\") | (df_1[\"Kota_Toko\"]==\"Bekasi\")]\n",
    "\n",
    "non_jabodetabek"
   ]
  },
  {
   "cell_type": "markdown",
   "metadata": {},
   "source": [
    "- Saya akan melakukan Hypothesis Test dengan menggunakan `Two-Sample Independent Test`."
   ]
  },
  {
   "cell_type": "code",
   "execution_count": 54,
   "metadata": {},
   "outputs": [
    {
     "name": "stdout",
     "output_type": "stream",
     "text": [
      "Mean Harga Jabodetabek: Rp. 16751.11170212766\n",
      "Mean Harga non Jabodetabek: Rp. 16539.178770949722\n"
     ]
    }
   ],
   "source": [
    "area_jabodetabek = ['Tangerang', 'Tangerang Selatan', 'Jakarta Barat', 'Jakarta Selatan', 'Jakarta Barat', 'Jakarta Timur', 'Jakarta Pusat', 'Kab. Tangerang', 'Kab. Bogor', 'Bekasi']\n",
    "\n",
    "hargaJabodetakbek = df_1[df_1['Kota_Toko'].isin(area_jabodetabek)]\n",
    "meanHargaJabodetabek = hargaJabodetakbek['Harga_Produk'].mean()\n",
    "\n",
    "hargaNonJabodetabek = df_1[~df_1['Kota_Toko'].isin(area_jabodetabek)]\n",
    "meanHargaNonJabodetabek = hargaNonJabodetabek['Harga_Produk'].mean()\n",
    "\n",
    "print(f\"Mean Harga Jabodetabek: Rp. {meanHargaJabodetabek}\")\n",
    "print(f\"Mean Harga non Jabodetabek: Rp. {meanHargaNonJabodetabek}\")"
   ]
  },
  {
   "cell_type": "code",
   "execution_count": 187,
   "metadata": {},
   "outputs": [
    {
     "name": "stdout",
     "output_type": "stream",
     "text": [
      "T-Statistic: 0.1936877310222945\n",
      "P_Value: 0.8465281409209847\n"
     ]
    }
   ],
   "source": [
    "t_stat, p_val = stats.ttest_ind(hargaJabodetakbek['Harga_Produk'], hargaNonJabodetabek['Harga_Produk'])\n",
    "\n",
    "print('T-Statistic:', t_stat)\n",
    "print('P_Value:', p_val)"
   ]
  },
  {
   "cell_type": "markdown",
   "metadata": {},
   "source": [
    "**Insight:**\n",
    "\n",
    "berdasarkan data diatass dapat disimpulkan:\n",
    "- H0: Harga barang di jabodetabek == harga barang diluar jabodetabek\n",
    "- H1: Harga barang di jabodetabek != harga barang diluar jabodetabek"
   ]
  },
  {
   "cell_type": "markdown",
   "metadata": {},
   "source": [
    "### 4. Correlation Test"
   ]
  },
  {
   "cell_type": "code",
   "execution_count": 4,
   "metadata": {},
   "outputs": [
    {
     "name": "stdout",
     "output_type": "stream",
     "text": [
      "rho-correlation: -0.57, p-value: 7.028600209953802e-33\n"
     ]
    }
   ],
   "source": [
    "# Menggunakan spearmanr untuk menghitung korelasi dikarenakan data tidak terdistribusi normal\n",
    "corr_rho, pval_s = stats.spearmanr(df_1['Harga_Produk'], df_1['Banyaknya_Terjual'])\n",
    "\n",
    "print(f\"rho-correlation: {corr_rho:.2f}, p-value: {pval_s}\")"
   ]
  },
  {
   "cell_type": "markdown",
   "metadata": {},
   "source": [
    "**Insight:**\n",
    "\n",
    "Berdasarkan hasil perhitungan, hubungan antara harga produk dan jumlah penjualan dianggap nyata karena nilai p-value kurang dari 0,05."
   ]
  },
  {
   "cell_type": "markdown",
   "metadata": {},
   "source": [
    "## E. Conclusion"
   ]
  },
  {
   "cell_type": "markdown",
   "metadata": {},
   "source": [
    "1. - Nilai Rata-Rata Harga Produk adalah : 16647.743869209808 dan Nilai Median Harga Produk adalah : 15000.0\n",
    "   - Nilai Rata-Rata Banyaknya Terjual adalah : 16647.743869209808 dan Nilai Median Banyaknya Terjual adalah : 15000.0\n",
    "   - Nilai Rata-Rata Rating Produk adalah : 16647.743869209808 dan Nilai Median Rating Produk adalah : 15000.0\n",
    "   dan nilai tidak terdistribusi dengan normal karena skewness >1\n",
    "\n",
    "2. Batas minimum barang terjual: -809.421371249191 dan Batas maximal barang terjual: 37015.75470458253\n",
    "\n",
    "3. Harga barang di jabodetabek tidak sama dengan harga barang diluar jabodetabek\n",
    "\n",
    "4. Ada hubungan antara harga produk dengan banyaknya terjual\n"
   ]
  }
 ],
 "metadata": {
  "kernelspec": {
   "display_name": "base",
   "language": "python",
   "name": "python3"
  },
  "language_info": {
   "codemirror_mode": {
    "name": "ipython",
    "version": 3
   },
   "file_extension": ".py",
   "mimetype": "text/x-python",
   "name": "python",
   "nbconvert_exporter": "python",
   "pygments_lexer": "ipython3",
   "version": "3.11.7"
  }
 },
 "nbformat": 4,
 "nbformat_minor": 2
}
